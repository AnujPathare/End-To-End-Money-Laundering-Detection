{
 "cells": [
  {
   "cell_type": "code",
   "execution_count": null,
   "id": "1c826e18",
   "metadata": {},
   "outputs": [],
   "source": [
    "# !pip install pandas\n",
    "# !pip install numpy\n",
    "# !pip install seaborn\n",
    "# !pip install scikit-learn\n",
    "# !pip install category-encoders\n",
    "# !pip install imbalanced-learn\n",
    "# !pip install lightgbm\n",
    "# !pip install xgboost"
   ]
  },
  {
   "cell_type": "code",
   "execution_count": 88,
   "id": "862cca85",
   "metadata": {},
   "outputs": [],
   "source": [
    "import pandas as pd\n",
    "import numpy as np\n",
    "import seaborn as sns\n",
    "import matplotlib.pyplot as plt\n",
    "from scipy.stats import chi2_contingency\n",
    "from sklearn.model_selection import train_test_split\n",
    "from sklearn.impute import SimpleImputer\n",
    "from category_encoders import CountEncoder\n",
    "from sklearn.preprocessing import OneHotEncoder\n",
    "from sklearn.preprocessing import StandardScaler\n",
    "from sklearn.pipeline import Pipeline\n",
    "from sklearn.compose import ColumnTransformer\n",
    "from imblearn.over_sampling import SMOTE\n",
    "from sklearn.linear_model import LogisticRegression\n",
    "from sklearn.tree import DecisionTreeClassifier\n",
    "from sklearn.ensemble import RandomForestClassifier\n",
    "from sklearn.naive_bayes import BernoulliNB\n",
    "# from lightgbm import LGBMClassifier\n",
    "# from xgboost import XGBClassifier\n",
    "from sklearn.metrics import confusion_matrix, accuracy_score, precision_score, recall_score, f1_score\n",
    "%matplotlib inline"
   ]
  },
  {
   "cell_type": "code",
   "execution_count": 8,
   "id": "9442b7b5",
   "metadata": {},
   "outputs": [],
   "source": [
    "df = pd.read_csv('data/transactions.csv')"
   ]
  },
  {
   "cell_type": "code",
   "execution_count": 10,
   "id": "cb6a927e",
   "metadata": {},
   "outputs": [
    {
     "data": {
      "text/html": [
       "<div>\n",
       "<style scoped>\n",
       "    .dataframe tbody tr th:only-of-type {\n",
       "        vertical-align: middle;\n",
       "    }\n",
       "\n",
       "    .dataframe tbody tr th {\n",
       "        vertical-align: top;\n",
       "    }\n",
       "\n",
       "    .dataframe thead th {\n",
       "        text-align: right;\n",
       "    }\n",
       "</style>\n",
       "<table border=\"1\" class=\"dataframe\">\n",
       "  <thead>\n",
       "    <tr style=\"text-align: right;\">\n",
       "      <th></th>\n",
       "      <th>Timestamp</th>\n",
       "      <th>From Bank</th>\n",
       "      <th>Account</th>\n",
       "      <th>To Bank</th>\n",
       "      <th>Account.1</th>\n",
       "      <th>Amount Received</th>\n",
       "      <th>Receiving Currency</th>\n",
       "      <th>Amount Paid</th>\n",
       "      <th>Payment Currency</th>\n",
       "      <th>Payment Format</th>\n",
       "      <th>Is Laundering</th>\n",
       "    </tr>\n",
       "  </thead>\n",
       "  <tbody>\n",
       "    <tr>\n",
       "      <th>0</th>\n",
       "      <td>2022/09/01 00:20</td>\n",
       "      <td>10</td>\n",
       "      <td>8000EBD30</td>\n",
       "      <td>10</td>\n",
       "      <td>8000EBD30</td>\n",
       "      <td>3697.34</td>\n",
       "      <td>US Dollar</td>\n",
       "      <td>3697.34</td>\n",
       "      <td>US Dollar</td>\n",
       "      <td>Reinvestment</td>\n",
       "      <td>0</td>\n",
       "    </tr>\n",
       "    <tr>\n",
       "      <th>1</th>\n",
       "      <td>2022/09/01 00:20</td>\n",
       "      <td>3208</td>\n",
       "      <td>8000F4580</td>\n",
       "      <td>1</td>\n",
       "      <td>8000F5340</td>\n",
       "      <td>0.01</td>\n",
       "      <td>US Dollar</td>\n",
       "      <td>0.01</td>\n",
       "      <td>US Dollar</td>\n",
       "      <td>Cheque</td>\n",
       "      <td>0</td>\n",
       "    </tr>\n",
       "    <tr>\n",
       "      <th>2</th>\n",
       "      <td>2022/09/01 00:00</td>\n",
       "      <td>3209</td>\n",
       "      <td>8000F4670</td>\n",
       "      <td>3209</td>\n",
       "      <td>8000F4670</td>\n",
       "      <td>14675.57</td>\n",
       "      <td>US Dollar</td>\n",
       "      <td>14675.57</td>\n",
       "      <td>US Dollar</td>\n",
       "      <td>Reinvestment</td>\n",
       "      <td>0</td>\n",
       "    </tr>\n",
       "    <tr>\n",
       "      <th>3</th>\n",
       "      <td>2022/09/01 00:02</td>\n",
       "      <td>12</td>\n",
       "      <td>8000F5030</td>\n",
       "      <td>12</td>\n",
       "      <td>8000F5030</td>\n",
       "      <td>2806.97</td>\n",
       "      <td>US Dollar</td>\n",
       "      <td>2806.97</td>\n",
       "      <td>US Dollar</td>\n",
       "      <td>Reinvestment</td>\n",
       "      <td>0</td>\n",
       "    </tr>\n",
       "    <tr>\n",
       "      <th>4</th>\n",
       "      <td>2022/09/01 00:06</td>\n",
       "      <td>10</td>\n",
       "      <td>8000F5200</td>\n",
       "      <td>10</td>\n",
       "      <td>8000F5200</td>\n",
       "      <td>36682.97</td>\n",
       "      <td>US Dollar</td>\n",
       "      <td>36682.97</td>\n",
       "      <td>US Dollar</td>\n",
       "      <td>Reinvestment</td>\n",
       "      <td>0</td>\n",
       "    </tr>\n",
       "  </tbody>\n",
       "</table>\n",
       "</div>"
      ],
      "text/plain": [
       "          Timestamp  From Bank    Account  To Bank  Account.1  \\\n",
       "0  2022/09/01 00:20         10  8000EBD30       10  8000EBD30   \n",
       "1  2022/09/01 00:20       3208  8000F4580        1  8000F5340   \n",
       "2  2022/09/01 00:00       3209  8000F4670     3209  8000F4670   \n",
       "3  2022/09/01 00:02         12  8000F5030       12  8000F5030   \n",
       "4  2022/09/01 00:06         10  8000F5200       10  8000F5200   \n",
       "\n",
       "   Amount Received Receiving Currency  Amount Paid Payment Currency  \\\n",
       "0          3697.34          US Dollar      3697.34        US Dollar   \n",
       "1             0.01          US Dollar         0.01        US Dollar   \n",
       "2         14675.57          US Dollar     14675.57        US Dollar   \n",
       "3          2806.97          US Dollar      2806.97        US Dollar   \n",
       "4         36682.97          US Dollar     36682.97        US Dollar   \n",
       "\n",
       "  Payment Format  Is Laundering  \n",
       "0   Reinvestment              0  \n",
       "1         Cheque              0  \n",
       "2   Reinvestment              0  \n",
       "3   Reinvestment              0  \n",
       "4   Reinvestment              0  "
      ]
     },
     "execution_count": 10,
     "metadata": {},
     "output_type": "execute_result"
    }
   ],
   "source": [
    "df.head()"
   ]
  },
  {
   "cell_type": "code",
   "execution_count": 11,
   "id": "fbf87b8a",
   "metadata": {},
   "outputs": [],
   "source": [
    "df.rename(columns = {'Account':'Sender Account', 'Account.1':'Receiver Account'}, inplace = True) "
   ]
  },
  {
   "cell_type": "code",
   "execution_count": 12,
   "id": "68bf745e",
   "metadata": {},
   "outputs": [
    {
     "data": {
      "text/html": [
       "<div>\n",
       "<style scoped>\n",
       "    .dataframe tbody tr th:only-of-type {\n",
       "        vertical-align: middle;\n",
       "    }\n",
       "\n",
       "    .dataframe tbody tr th {\n",
       "        vertical-align: top;\n",
       "    }\n",
       "\n",
       "    .dataframe thead th {\n",
       "        text-align: right;\n",
       "    }\n",
       "</style>\n",
       "<table border=\"1\" class=\"dataframe\">\n",
       "  <thead>\n",
       "    <tr style=\"text-align: right;\">\n",
       "      <th></th>\n",
       "      <th>Timestamp</th>\n",
       "      <th>From Bank</th>\n",
       "      <th>Sender Account</th>\n",
       "      <th>To Bank</th>\n",
       "      <th>Receiver Account</th>\n",
       "      <th>Amount Received</th>\n",
       "      <th>Receiving Currency</th>\n",
       "      <th>Amount Paid</th>\n",
       "      <th>Payment Currency</th>\n",
       "      <th>Payment Format</th>\n",
       "      <th>Is Laundering</th>\n",
       "    </tr>\n",
       "  </thead>\n",
       "  <tbody>\n",
       "    <tr>\n",
       "      <th>0</th>\n",
       "      <td>2022/09/01 00:20</td>\n",
       "      <td>10</td>\n",
       "      <td>8000EBD30</td>\n",
       "      <td>10</td>\n",
       "      <td>8000EBD30</td>\n",
       "      <td>3697.34</td>\n",
       "      <td>US Dollar</td>\n",
       "      <td>3697.34</td>\n",
       "      <td>US Dollar</td>\n",
       "      <td>Reinvestment</td>\n",
       "      <td>0</td>\n",
       "    </tr>\n",
       "    <tr>\n",
       "      <th>1</th>\n",
       "      <td>2022/09/01 00:20</td>\n",
       "      <td>3208</td>\n",
       "      <td>8000F4580</td>\n",
       "      <td>1</td>\n",
       "      <td>8000F5340</td>\n",
       "      <td>0.01</td>\n",
       "      <td>US Dollar</td>\n",
       "      <td>0.01</td>\n",
       "      <td>US Dollar</td>\n",
       "      <td>Cheque</td>\n",
       "      <td>0</td>\n",
       "    </tr>\n",
       "  </tbody>\n",
       "</table>\n",
       "</div>"
      ],
      "text/plain": [
       "          Timestamp  From Bank Sender Account  To Bank Receiver Account  \\\n",
       "0  2022/09/01 00:20         10      8000EBD30       10        8000EBD30   \n",
       "1  2022/09/01 00:20       3208      8000F4580        1        8000F5340   \n",
       "\n",
       "   Amount Received Receiving Currency  Amount Paid Payment Currency  \\\n",
       "0          3697.34          US Dollar      3697.34        US Dollar   \n",
       "1             0.01          US Dollar         0.01        US Dollar   \n",
       "\n",
       "  Payment Format  Is Laundering  \n",
       "0   Reinvestment              0  \n",
       "1         Cheque              0  "
      ]
     },
     "execution_count": 12,
     "metadata": {},
     "output_type": "execute_result"
    }
   ],
   "source": [
    "df.head(2)"
   ]
  },
  {
   "cell_type": "markdown",
   "id": "36f8b722",
   "metadata": {},
   "source": [
    "## Data Analysis"
   ]
  },
  {
   "cell_type": "code",
   "execution_count": 13,
   "id": "8e33e63d",
   "metadata": {},
   "outputs": [
    {
     "data": {
      "text/plain": [
       "(5078345, 11)"
      ]
     },
     "execution_count": 13,
     "metadata": {},
     "output_type": "execute_result"
    }
   ],
   "source": [
    "df.shape"
   ]
  },
  {
   "cell_type": "code",
   "execution_count": 14,
   "id": "e7850d38",
   "metadata": {},
   "outputs": [
    {
     "data": {
      "text/html": [
       "<div>\n",
       "<style scoped>\n",
       "    .dataframe tbody tr th:only-of-type {\n",
       "        vertical-align: middle;\n",
       "    }\n",
       "\n",
       "    .dataframe tbody tr th {\n",
       "        vertical-align: top;\n",
       "    }\n",
       "\n",
       "    .dataframe thead th {\n",
       "        text-align: right;\n",
       "    }\n",
       "</style>\n",
       "<table border=\"1\" class=\"dataframe\">\n",
       "  <thead>\n",
       "    <tr style=\"text-align: right;\">\n",
       "      <th></th>\n",
       "      <th>From Bank</th>\n",
       "      <th>To Bank</th>\n",
       "      <th>Amount Received</th>\n",
       "      <th>Amount Paid</th>\n",
       "      <th>Is Laundering</th>\n",
       "    </tr>\n",
       "  </thead>\n",
       "  <tbody>\n",
       "    <tr>\n",
       "      <th>count</th>\n",
       "      <td>5.078345e+06</td>\n",
       "      <td>5.078345e+06</td>\n",
       "      <td>5.078345e+06</td>\n",
       "      <td>5.078345e+06</td>\n",
       "      <td>5.078345e+06</td>\n",
       "    </tr>\n",
       "    <tr>\n",
       "      <th>mean</th>\n",
       "      <td>4.573057e+04</td>\n",
       "      <td>6.574456e+04</td>\n",
       "      <td>5.988726e+06</td>\n",
       "      <td>4.509273e+06</td>\n",
       "      <td>1.019427e-03</td>\n",
       "    </tr>\n",
       "    <tr>\n",
       "      <th>std</th>\n",
       "      <td>8.176562e+04</td>\n",
       "      <td>8.409299e+04</td>\n",
       "      <td>1.037183e+09</td>\n",
       "      <td>8.697728e+08</td>\n",
       "      <td>3.191219e-02</td>\n",
       "    </tr>\n",
       "    <tr>\n",
       "      <th>min</th>\n",
       "      <td>1.000000e+00</td>\n",
       "      <td>1.000000e+00</td>\n",
       "      <td>1.000000e-06</td>\n",
       "      <td>1.000000e-06</td>\n",
       "      <td>0.000000e+00</td>\n",
       "    </tr>\n",
       "    <tr>\n",
       "      <th>25%</th>\n",
       "      <td>1.190000e+02</td>\n",
       "      <td>4.259000e+03</td>\n",
       "      <td>1.833700e+02</td>\n",
       "      <td>1.844800e+02</td>\n",
       "      <td>0.000000e+00</td>\n",
       "    </tr>\n",
       "    <tr>\n",
       "      <th>50%</th>\n",
       "      <td>9.679000e+03</td>\n",
       "      <td>2.156800e+04</td>\n",
       "      <td>1.411010e+03</td>\n",
       "      <td>1.414540e+03</td>\n",
       "      <td>0.000000e+00</td>\n",
       "    </tr>\n",
       "    <tr>\n",
       "      <th>75%</th>\n",
       "      <td>2.862800e+04</td>\n",
       "      <td>1.223320e+05</td>\n",
       "      <td>1.234627e+04</td>\n",
       "      <td>1.229784e+04</td>\n",
       "      <td>0.000000e+00</td>\n",
       "    </tr>\n",
       "    <tr>\n",
       "      <th>max</th>\n",
       "      <td>3.563030e+05</td>\n",
       "      <td>3.562940e+05</td>\n",
       "      <td>1.046302e+12</td>\n",
       "      <td>1.046302e+12</td>\n",
       "      <td>1.000000e+00</td>\n",
       "    </tr>\n",
       "  </tbody>\n",
       "</table>\n",
       "</div>"
      ],
      "text/plain": [
       "          From Bank       To Bank  Amount Received   Amount Paid  \\\n",
       "count  5.078345e+06  5.078345e+06     5.078345e+06  5.078345e+06   \n",
       "mean   4.573057e+04  6.574456e+04     5.988726e+06  4.509273e+06   \n",
       "std    8.176562e+04  8.409299e+04     1.037183e+09  8.697728e+08   \n",
       "min    1.000000e+00  1.000000e+00     1.000000e-06  1.000000e-06   \n",
       "25%    1.190000e+02  4.259000e+03     1.833700e+02  1.844800e+02   \n",
       "50%    9.679000e+03  2.156800e+04     1.411010e+03  1.414540e+03   \n",
       "75%    2.862800e+04  1.223320e+05     1.234627e+04  1.229784e+04   \n",
       "max    3.563030e+05  3.562940e+05     1.046302e+12  1.046302e+12   \n",
       "\n",
       "       Is Laundering  \n",
       "count   5.078345e+06  \n",
       "mean    1.019427e-03  \n",
       "std     3.191219e-02  \n",
       "min     0.000000e+00  \n",
       "25%     0.000000e+00  \n",
       "50%     0.000000e+00  \n",
       "75%     0.000000e+00  \n",
       "max     1.000000e+00  "
      ]
     },
     "execution_count": 14,
     "metadata": {},
     "output_type": "execute_result"
    }
   ],
   "source": [
    "df.describe()"
   ]
  },
  {
   "cell_type": "code",
   "execution_count": 15,
   "id": "0bba0008",
   "metadata": {},
   "outputs": [
    {
     "data": {
      "text/html": [
       "<div>\n",
       "<style scoped>\n",
       "    .dataframe tbody tr th:only-of-type {\n",
       "        vertical-align: middle;\n",
       "    }\n",
       "\n",
       "    .dataframe tbody tr th {\n",
       "        vertical-align: top;\n",
       "    }\n",
       "\n",
       "    .dataframe thead th {\n",
       "        text-align: right;\n",
       "    }\n",
       "</style>\n",
       "<table border=\"1\" class=\"dataframe\">\n",
       "  <thead>\n",
       "    <tr style=\"text-align: right;\">\n",
       "      <th></th>\n",
       "      <th>Timestamp</th>\n",
       "      <th>Sender Account</th>\n",
       "      <th>Receiver Account</th>\n",
       "      <th>Receiving Currency</th>\n",
       "      <th>Payment Currency</th>\n",
       "      <th>Payment Format</th>\n",
       "    </tr>\n",
       "  </thead>\n",
       "  <tbody>\n",
       "    <tr>\n",
       "      <th>count</th>\n",
       "      <td>5078345</td>\n",
       "      <td>5078345</td>\n",
       "      <td>5078345</td>\n",
       "      <td>5078345</td>\n",
       "      <td>5078345</td>\n",
       "      <td>5078345</td>\n",
       "    </tr>\n",
       "    <tr>\n",
       "      <th>unique</th>\n",
       "      <td>15018</td>\n",
       "      <td>496995</td>\n",
       "      <td>420636</td>\n",
       "      <td>15</td>\n",
       "      <td>15</td>\n",
       "      <td>7</td>\n",
       "    </tr>\n",
       "    <tr>\n",
       "      <th>top</th>\n",
       "      <td>2022/09/01 00:04</td>\n",
       "      <td>100428660</td>\n",
       "      <td>100428660</td>\n",
       "      <td>US Dollar</td>\n",
       "      <td>US Dollar</td>\n",
       "      <td>Cheque</td>\n",
       "    </tr>\n",
       "    <tr>\n",
       "      <th>freq</th>\n",
       "      <td>11193</td>\n",
       "      <td>168672</td>\n",
       "      <td>1084</td>\n",
       "      <td>1879341</td>\n",
       "      <td>1895172</td>\n",
       "      <td>1864331</td>\n",
       "    </tr>\n",
       "  </tbody>\n",
       "</table>\n",
       "</div>"
      ],
      "text/plain": [
       "               Timestamp Sender Account Receiver Account Receiving Currency  \\\n",
       "count            5078345        5078345          5078345            5078345   \n",
       "unique             15018         496995           420636                 15   \n",
       "top     2022/09/01 00:04      100428660        100428660          US Dollar   \n",
       "freq               11193         168672             1084            1879341   \n",
       "\n",
       "       Payment Currency Payment Format  \n",
       "count           5078345        5078345  \n",
       "unique               15              7  \n",
       "top           US Dollar         Cheque  \n",
       "freq            1895172        1864331  "
      ]
     },
     "execution_count": 15,
     "metadata": {},
     "output_type": "execute_result"
    }
   ],
   "source": [
    "df.describe(include=object)"
   ]
  },
  {
   "cell_type": "code",
   "execution_count": 16,
   "id": "0a909fd0",
   "metadata": {},
   "outputs": [
    {
     "data": {
      "text/plain": [
       "Timestamp             0\n",
       "From Bank             0\n",
       "Sender Account        0\n",
       "To Bank               0\n",
       "Receiver Account      0\n",
       "Amount Received       0\n",
       "Receiving Currency    0\n",
       "Amount Paid           0\n",
       "Payment Currency      0\n",
       "Payment Format        0\n",
       "Is Laundering         0\n",
       "dtype: int64"
      ]
     },
     "execution_count": 16,
     "metadata": {},
     "output_type": "execute_result"
    }
   ],
   "source": [
    "df.isnull().sum()"
   ]
  },
  {
   "cell_type": "code",
   "execution_count": 17,
   "id": "1d5bdbab",
   "metadata": {},
   "outputs": [
    {
     "data": {
      "text/html": [
       "<div>\n",
       "<style scoped>\n",
       "    .dataframe tbody tr th:only-of-type {\n",
       "        vertical-align: middle;\n",
       "    }\n",
       "\n",
       "    .dataframe tbody tr th {\n",
       "        vertical-align: top;\n",
       "    }\n",
       "\n",
       "    .dataframe thead th {\n",
       "        text-align: right;\n",
       "    }\n",
       "</style>\n",
       "<table border=\"1\" class=\"dataframe\">\n",
       "  <thead>\n",
       "    <tr style=\"text-align: right;\">\n",
       "      <th></th>\n",
       "      <th>Timestamp</th>\n",
       "      <th>From Bank</th>\n",
       "      <th>Sender Account</th>\n",
       "      <th>To Bank</th>\n",
       "      <th>Receiver Account</th>\n",
       "      <th>Amount Received</th>\n",
       "      <th>Receiving Currency</th>\n",
       "      <th>Amount Paid</th>\n",
       "      <th>Payment Currency</th>\n",
       "      <th>Payment Format</th>\n",
       "      <th>Is Laundering</th>\n",
       "    </tr>\n",
       "  </thead>\n",
       "  <tbody>\n",
       "    <tr>\n",
       "      <th>863295</th>\n",
       "      <td>2022/09/01 16:20</td>\n",
       "      <td>12004</td>\n",
       "      <td>800C927C1</td>\n",
       "      <td>12004</td>\n",
       "      <td>800C927C0</td>\n",
       "      <td>0.000008</td>\n",
       "      <td>Bitcoin</td>\n",
       "      <td>0.080000</td>\n",
       "      <td>Euro</td>\n",
       "      <td>ACH</td>\n",
       "      <td>0</td>\n",
       "    </tr>\n",
       "    <tr>\n",
       "      <th>863296</th>\n",
       "      <td>2022/09/01 16:20</td>\n",
       "      <td>12004</td>\n",
       "      <td>800C927C1</td>\n",
       "      <td>220</td>\n",
       "      <td>813D8C1E1</td>\n",
       "      <td>0.000008</td>\n",
       "      <td>Bitcoin</td>\n",
       "      <td>0.000008</td>\n",
       "      <td>Bitcoin</td>\n",
       "      <td>Bitcoin</td>\n",
       "      <td>0</td>\n",
       "    </tr>\n",
       "    <tr>\n",
       "      <th>3684005</th>\n",
       "      <td>2022/09/07 21:25</td>\n",
       "      <td>29992</td>\n",
       "      <td>8099A29B1</td>\n",
       "      <td>220</td>\n",
       "      <td>813725AE1</td>\n",
       "      <td>0.000003</td>\n",
       "      <td>Bitcoin</td>\n",
       "      <td>0.000003</td>\n",
       "      <td>Bitcoin</td>\n",
       "      <td>Bitcoin</td>\n",
       "      <td>0</td>\n",
       "    </tr>\n",
       "    <tr>\n",
       "      <th>4166786</th>\n",
       "      <td>2022/09/08 21:05</td>\n",
       "      <td>113779</td>\n",
       "      <td>811144AB1</td>\n",
       "      <td>113779</td>\n",
       "      <td>811144AB0</td>\n",
       "      <td>0.000002</td>\n",
       "      <td>Bitcoin</td>\n",
       "      <td>0.020000</td>\n",
       "      <td>US Dollar</td>\n",
       "      <td>ACH</td>\n",
       "      <td>0</td>\n",
       "    </tr>\n",
       "    <tr>\n",
       "      <th>4166787</th>\n",
       "      <td>2022/09/08 21:05</td>\n",
       "      <td>113779</td>\n",
       "      <td>811144AB1</td>\n",
       "      <td>53744</td>\n",
       "      <td>813C777F1</td>\n",
       "      <td>0.000002</td>\n",
       "      <td>Bitcoin</td>\n",
       "      <td>0.000002</td>\n",
       "      <td>Bitcoin</td>\n",
       "      <td>Bitcoin</td>\n",
       "      <td>0</td>\n",
       "    </tr>\n",
       "    <tr>\n",
       "      <th>4510480</th>\n",
       "      <td>2022/09/09 10:03</td>\n",
       "      <td>6075</td>\n",
       "      <td>80C702911</td>\n",
       "      <td>6075</td>\n",
       "      <td>80C702910</td>\n",
       "      <td>0.000002</td>\n",
       "      <td>Bitcoin</td>\n",
       "      <td>0.020000</td>\n",
       "      <td>US Dollar</td>\n",
       "      <td>ACH</td>\n",
       "      <td>0</td>\n",
       "    </tr>\n",
       "    <tr>\n",
       "      <th>4510481</th>\n",
       "      <td>2022/09/09 10:03</td>\n",
       "      <td>6075</td>\n",
       "      <td>80C702911</td>\n",
       "      <td>154653</td>\n",
       "      <td>814389B61</td>\n",
       "      <td>0.000002</td>\n",
       "      <td>Bitcoin</td>\n",
       "      <td>0.000002</td>\n",
       "      <td>Bitcoin</td>\n",
       "      <td>Bitcoin</td>\n",
       "      <td>0</td>\n",
       "    </tr>\n",
       "    <tr>\n",
       "      <th>4816512</th>\n",
       "      <td>2022/09/09 21:33</td>\n",
       "      <td>14433</td>\n",
       "      <td>80935A891</td>\n",
       "      <td>14433</td>\n",
       "      <td>80935A890</td>\n",
       "      <td>0.000001</td>\n",
       "      <td>Bitcoin</td>\n",
       "      <td>0.010000</td>\n",
       "      <td>US Dollar</td>\n",
       "      <td>ACH</td>\n",
       "      <td>0</td>\n",
       "    </tr>\n",
       "    <tr>\n",
       "      <th>4816513</th>\n",
       "      <td>2022/09/09 21:33</td>\n",
       "      <td>14433</td>\n",
       "      <td>80935A891</td>\n",
       "      <td>15</td>\n",
       "      <td>813F7AE61</td>\n",
       "      <td>0.000001</td>\n",
       "      <td>Bitcoin</td>\n",
       "      <td>0.000001</td>\n",
       "      <td>Bitcoin</td>\n",
       "      <td>Bitcoin</td>\n",
       "      <td>0</td>\n",
       "    </tr>\n",
       "  </tbody>\n",
       "</table>\n",
       "</div>"
      ],
      "text/plain": [
       "                Timestamp  From Bank Sender Account  To Bank Receiver Account  \\\n",
       "863295   2022/09/01 16:20      12004      800C927C1    12004        800C927C0   \n",
       "863296   2022/09/01 16:20      12004      800C927C1      220        813D8C1E1   \n",
       "3684005  2022/09/07 21:25      29992      8099A29B1      220        813725AE1   \n",
       "4166786  2022/09/08 21:05     113779      811144AB1   113779        811144AB0   \n",
       "4166787  2022/09/08 21:05     113779      811144AB1    53744        813C777F1   \n",
       "4510480  2022/09/09 10:03       6075      80C702911     6075        80C702910   \n",
       "4510481  2022/09/09 10:03       6075      80C702911   154653        814389B61   \n",
       "4816512  2022/09/09 21:33      14433      80935A891    14433        80935A890   \n",
       "4816513  2022/09/09 21:33      14433      80935A891       15        813F7AE61   \n",
       "\n",
       "         Amount Received Receiving Currency  Amount Paid Payment Currency  \\\n",
       "863295          0.000008            Bitcoin     0.080000             Euro   \n",
       "863296          0.000008            Bitcoin     0.000008          Bitcoin   \n",
       "3684005         0.000003            Bitcoin     0.000003          Bitcoin   \n",
       "4166786         0.000002            Bitcoin     0.020000        US Dollar   \n",
       "4166787         0.000002            Bitcoin     0.000002          Bitcoin   \n",
       "4510480         0.000002            Bitcoin     0.020000        US Dollar   \n",
       "4510481         0.000002            Bitcoin     0.000002          Bitcoin   \n",
       "4816512         0.000001            Bitcoin     0.010000        US Dollar   \n",
       "4816513         0.000001            Bitcoin     0.000001          Bitcoin   \n",
       "\n",
       "        Payment Format  Is Laundering  \n",
       "863295             ACH              0  \n",
       "863296         Bitcoin              0  \n",
       "3684005        Bitcoin              0  \n",
       "4166786            ACH              0  \n",
       "4166787        Bitcoin              0  \n",
       "4510480            ACH              0  \n",
       "4510481        Bitcoin              0  \n",
       "4816512            ACH              0  \n",
       "4816513        Bitcoin              0  "
      ]
     },
     "execution_count": 17,
     "metadata": {},
     "output_type": "execute_result"
    }
   ],
   "source": [
    "df[df.duplicated()==True]"
   ]
  },
  {
   "cell_type": "code",
   "execution_count": 18,
   "id": "2a2cf086",
   "metadata": {},
   "outputs": [],
   "source": [
    "df.drop_duplicates(inplace=True)\n",
    "df.reset_index(drop=True, inplace=True)"
   ]
  },
  {
   "cell_type": "code",
   "execution_count": 20,
   "id": "ffabd93a",
   "metadata": {},
   "outputs": [
    {
     "data": {
      "text/plain": [
       "(5078336, 11)"
      ]
     },
     "execution_count": 20,
     "metadata": {},
     "output_type": "execute_result"
    }
   ],
   "source": [
    "df.shape"
   ]
  },
  {
   "cell_type": "markdown",
   "id": "b5986da9",
   "metadata": {},
   "source": [
    "## Creating features from 'Timestamp' column"
   ]
  },
  {
   "cell_type": "code",
   "execution_count": 21,
   "id": "6c836687",
   "metadata": {
    "scrolled": true
   },
   "outputs": [
    {
     "data": {
      "text/plain": [
       "0    2022/09/01 00:20\n",
       "1    2022/09/01 00:20\n",
       "2    2022/09/01 00:00\n",
       "3    2022/09/01 00:02\n",
       "4    2022/09/01 00:06\n",
       "Name: Timestamp, dtype: object"
      ]
     },
     "execution_count": 21,
     "metadata": {},
     "output_type": "execute_result"
    }
   ],
   "source": [
    "df.Timestamp.head()"
   ]
  },
  {
   "cell_type": "code",
   "execution_count": 22,
   "id": "fccc530e",
   "metadata": {},
   "outputs": [],
   "source": [
    "df['Timestamp'] = pd.to_datetime(df['Timestamp'], format='%Y/%m/%d %H:%M')"
   ]
  },
  {
   "cell_type": "code",
   "execution_count": 23,
   "id": "917877cd",
   "metadata": {},
   "outputs": [
    {
     "data": {
      "text/plain": [
       "Timestamp             datetime64[ns]\n",
       "From Bank                      int64\n",
       "Sender Account                object\n",
       "To Bank                        int64\n",
       "Receiver Account              object\n",
       "Amount Received              float64\n",
       "Receiving Currency            object\n",
       "Amount Paid                  float64\n",
       "Payment Currency              object\n",
       "Payment Format                object\n",
       "Is Laundering                  int64\n",
       "dtype: object"
      ]
     },
     "execution_count": 23,
     "metadata": {},
     "output_type": "execute_result"
    }
   ],
   "source": [
    "df.dtypes"
   ]
  },
  {
   "cell_type": "code",
   "execution_count": 24,
   "id": "c35d2178",
   "metadata": {},
   "outputs": [],
   "source": [
    "df['Year'] = df['Timestamp'].dt.year\n",
    "df['Month'] = df['Timestamp'].dt.month\n",
    "df['Day'] = df['Timestamp'].dt.day\n",
    "df['Hour'] = df['Timestamp'].dt.hour\n",
    "df['Minute'] = df['Timestamp'].dt.minute"
   ]
  },
  {
   "cell_type": "code",
   "execution_count": 25,
   "id": "dfd3985c",
   "metadata": {},
   "outputs": [
    {
     "data": {
      "text/plain": [
       "1"
      ]
     },
     "execution_count": 25,
     "metadata": {},
     "output_type": "execute_result"
    }
   ],
   "source": [
    "df['Year'].nunique()"
   ]
  },
  {
   "cell_type": "code",
   "execution_count": 26,
   "id": "5b795be6",
   "metadata": {},
   "outputs": [
    {
     "data": {
      "text/plain": [
       "1"
      ]
     },
     "execution_count": 26,
     "metadata": {},
     "output_type": "execute_result"
    }
   ],
   "source": [
    "df['Month'].nunique()"
   ]
  },
  {
   "cell_type": "code",
   "execution_count": 27,
   "id": "9e4a6ff2",
   "metadata": {},
   "outputs": [
    {
     "data": {
      "text/plain": [
       "18"
      ]
     },
     "execution_count": 27,
     "metadata": {},
     "output_type": "execute_result"
    }
   ],
   "source": [
    "df['Day'].nunique()"
   ]
  },
  {
   "cell_type": "code",
   "execution_count": 28,
   "id": "f9adb8f0",
   "metadata": {},
   "outputs": [
    {
     "data": {
      "text/plain": [
       "24"
      ]
     },
     "execution_count": 28,
     "metadata": {},
     "output_type": "execute_result"
    }
   ],
   "source": [
    "df['Hour'].nunique()"
   ]
  },
  {
   "cell_type": "code",
   "execution_count": 29,
   "id": "0f796662",
   "metadata": {},
   "outputs": [
    {
     "data": {
      "text/plain": [
       "60"
      ]
     },
     "execution_count": 29,
     "metadata": {},
     "output_type": "execute_result"
    }
   ],
   "source": [
    "df['Minute'].nunique()"
   ]
  },
  {
   "cell_type": "code",
   "execution_count": 30,
   "id": "c96e4ae4",
   "metadata": {},
   "outputs": [],
   "source": [
    "df.drop(columns=['Year', 'Month', 'Timestamp'], inplace=True)"
   ]
  },
  {
   "cell_type": "code",
   "execution_count": 31,
   "id": "77df478b",
   "metadata": {},
   "outputs": [
    {
     "data": {
      "text/html": [
       "<div>\n",
       "<style scoped>\n",
       "    .dataframe tbody tr th:only-of-type {\n",
       "        vertical-align: middle;\n",
       "    }\n",
       "\n",
       "    .dataframe tbody tr th {\n",
       "        vertical-align: top;\n",
       "    }\n",
       "\n",
       "    .dataframe thead th {\n",
       "        text-align: right;\n",
       "    }\n",
       "</style>\n",
       "<table border=\"1\" class=\"dataframe\">\n",
       "  <thead>\n",
       "    <tr style=\"text-align: right;\">\n",
       "      <th></th>\n",
       "      <th>From Bank</th>\n",
       "      <th>Sender Account</th>\n",
       "      <th>To Bank</th>\n",
       "      <th>Receiver Account</th>\n",
       "      <th>Amount Received</th>\n",
       "      <th>Receiving Currency</th>\n",
       "      <th>Amount Paid</th>\n",
       "      <th>Payment Currency</th>\n",
       "      <th>Payment Format</th>\n",
       "      <th>Is Laundering</th>\n",
       "      <th>Day</th>\n",
       "      <th>Hour</th>\n",
       "      <th>Minute</th>\n",
       "    </tr>\n",
       "  </thead>\n",
       "  <tbody>\n",
       "    <tr>\n",
       "      <th>0</th>\n",
       "      <td>10</td>\n",
       "      <td>8000EBD30</td>\n",
       "      <td>10</td>\n",
       "      <td>8000EBD30</td>\n",
       "      <td>3697.34</td>\n",
       "      <td>US Dollar</td>\n",
       "      <td>3697.34</td>\n",
       "      <td>US Dollar</td>\n",
       "      <td>Reinvestment</td>\n",
       "      <td>0</td>\n",
       "      <td>1</td>\n",
       "      <td>0</td>\n",
       "      <td>20</td>\n",
       "    </tr>\n",
       "    <tr>\n",
       "      <th>1</th>\n",
       "      <td>3208</td>\n",
       "      <td>8000F4580</td>\n",
       "      <td>1</td>\n",
       "      <td>8000F5340</td>\n",
       "      <td>0.01</td>\n",
       "      <td>US Dollar</td>\n",
       "      <td>0.01</td>\n",
       "      <td>US Dollar</td>\n",
       "      <td>Cheque</td>\n",
       "      <td>0</td>\n",
       "      <td>1</td>\n",
       "      <td>0</td>\n",
       "      <td>20</td>\n",
       "    </tr>\n",
       "    <tr>\n",
       "      <th>2</th>\n",
       "      <td>3209</td>\n",
       "      <td>8000F4670</td>\n",
       "      <td>3209</td>\n",
       "      <td>8000F4670</td>\n",
       "      <td>14675.57</td>\n",
       "      <td>US Dollar</td>\n",
       "      <td>14675.57</td>\n",
       "      <td>US Dollar</td>\n",
       "      <td>Reinvestment</td>\n",
       "      <td>0</td>\n",
       "      <td>1</td>\n",
       "      <td>0</td>\n",
       "      <td>0</td>\n",
       "    </tr>\n",
       "    <tr>\n",
       "      <th>3</th>\n",
       "      <td>12</td>\n",
       "      <td>8000F5030</td>\n",
       "      <td>12</td>\n",
       "      <td>8000F5030</td>\n",
       "      <td>2806.97</td>\n",
       "      <td>US Dollar</td>\n",
       "      <td>2806.97</td>\n",
       "      <td>US Dollar</td>\n",
       "      <td>Reinvestment</td>\n",
       "      <td>0</td>\n",
       "      <td>1</td>\n",
       "      <td>0</td>\n",
       "      <td>2</td>\n",
       "    </tr>\n",
       "    <tr>\n",
       "      <th>4</th>\n",
       "      <td>10</td>\n",
       "      <td>8000F5200</td>\n",
       "      <td>10</td>\n",
       "      <td>8000F5200</td>\n",
       "      <td>36682.97</td>\n",
       "      <td>US Dollar</td>\n",
       "      <td>36682.97</td>\n",
       "      <td>US Dollar</td>\n",
       "      <td>Reinvestment</td>\n",
       "      <td>0</td>\n",
       "      <td>1</td>\n",
       "      <td>0</td>\n",
       "      <td>6</td>\n",
       "    </tr>\n",
       "  </tbody>\n",
       "</table>\n",
       "</div>"
      ],
      "text/plain": [
       "   From Bank Sender Account  To Bank Receiver Account  Amount Received  \\\n",
       "0         10      8000EBD30       10        8000EBD30          3697.34   \n",
       "1       3208      8000F4580        1        8000F5340             0.01   \n",
       "2       3209      8000F4670     3209        8000F4670         14675.57   \n",
       "3         12      8000F5030       12        8000F5030          2806.97   \n",
       "4         10      8000F5200       10        8000F5200         36682.97   \n",
       "\n",
       "  Receiving Currency  Amount Paid Payment Currency Payment Format  \\\n",
       "0          US Dollar      3697.34        US Dollar   Reinvestment   \n",
       "1          US Dollar         0.01        US Dollar         Cheque   \n",
       "2          US Dollar     14675.57        US Dollar   Reinvestment   \n",
       "3          US Dollar      2806.97        US Dollar   Reinvestment   \n",
       "4          US Dollar     36682.97        US Dollar   Reinvestment   \n",
       "\n",
       "   Is Laundering  Day  Hour  Minute  \n",
       "0              0    1     0      20  \n",
       "1              0    1     0      20  \n",
       "2              0    1     0       0  \n",
       "3              0    1     0       2  \n",
       "4              0    1     0       6  "
      ]
     },
     "execution_count": 31,
     "metadata": {},
     "output_type": "execute_result"
    }
   ],
   "source": [
    "df.head()"
   ]
  },
  {
   "cell_type": "markdown",
   "id": "b75261e0",
   "metadata": {},
   "source": [
    "## Checking the distribution of target variable"
   ]
  },
  {
   "cell_type": "code",
   "execution_count": 32,
   "id": "29557fb2",
   "metadata": {},
   "outputs": [
    {
     "data": {
      "text/plain": [
       "Is Laundering\n",
       "0    5073159\n",
       "1       5177\n",
       "Name: count, dtype: int64"
      ]
     },
     "execution_count": 32,
     "metadata": {},
     "output_type": "execute_result"
    }
   ],
   "source": [
    "df['Is Laundering'].value_counts()"
   ]
  },
  {
   "cell_type": "code",
   "execution_count": 34,
   "id": "cc964a82",
   "metadata": {},
   "outputs": [
    {
     "name": "stdout",
     "output_type": "stream",
     "text": [
      "No Money Laundering: 99.9 % of the dataset\n",
      "Money Laundering: 0.1 % of the dataset\n"
     ]
    }
   ],
   "source": [
    "print('No Money Laundering:', round(df['Is Laundering'].value_counts()[0]/len(df) * 100,2), '% of the dataset')\n",
    "print('Money Laundering:', round(df['Is Laundering'].value_counts()[1]/len(df) * 100,2), '% of the dataset')"
   ]
  },
  {
   "cell_type": "code",
   "execution_count": 35,
   "id": "eeaf759c",
   "metadata": {},
   "outputs": [
    {
     "data": {
      "image/png": "[encoded data removed]",
      "text/plain": [
       "<Figure size 640x480 with 1 Axes>"
      ]
     },
     "metadata": {},
     "output_type": "display_data"
    }
   ],
   "source": [
    "sns.countplot(x='Is Laundering', data=df)\n",
    "plt.title('Laundering Distributions \\n (0: No Laundering || 1: Laundering)', fontsize=14)\n",
    "plt.show()"
   ]
  },
  {
   "cell_type": "markdown",
   "id": "fac19aa6",
   "metadata": {},
   "source": [
    "## Analysis of categorical variables"
   ]
  },
  {
   "cell_type": "code",
   "execution_count": 36,
   "id": "e252b8c6",
   "metadata": {},
   "outputs": [
    {
     "data": {
      "text/plain": [
       "Index(['Sender Account', 'Receiver Account', 'Receiving Currency',\n",
       "       'Payment Currency', 'Payment Format'],\n",
       "      dtype='object')"
      ]
     },
     "execution_count": 36,
     "metadata": {},
     "output_type": "execute_result"
    }
   ],
   "source": [
    "df.select_dtypes(include=['object']).columns"
   ]
  },
  {
   "cell_type": "code",
   "execution_count": 37,
   "id": "91b62558",
   "metadata": {},
   "outputs": [
    {
     "name": "stdout",
     "output_type": "stream",
     "text": [
      "P-value Sender Account: 0.0\n",
      "P-value Receiver Account: 0.0\n",
      "P-value Receiving Currency: 4.689388091722716e-217\n",
      "P-value Payment Currency: 2.0941379172816512e-219\n",
      "P-value Payment Format: 0.0\n"
     ]
    }
   ],
   "source": [
    "# Create a contingency table\n",
    "def create_contingency_table(col_1, col_2):\n",
    "    contingency_table = pd.crosstab(df[col_1], df[col_2])\n",
    "    \n",
    "    # Chi-Square test\n",
    "    chi2, p_value, dof, expected = chi2_contingency(contingency_table)\n",
    "    \n",
    "    return p_value\n",
    "    \n",
    "print(f\"P-value Sender Account: {create_contingency_table('Sender Account', 'Is Laundering')}\")\n",
    "print(f\"P-value Receiver Account: {create_contingency_table('Receiver Account', 'Is Laundering')}\")\n",
    "print(f\"P-value Receiving Currency: {create_contingency_table('Receiving Currency', 'Is Laundering')}\")\n",
    "print(f\"P-value Payment Currency: {create_contingency_table('Payment Currency', 'Is Laundering')}\")\n",
    "print(f\"P-value Payment Format: {create_contingency_table('Payment Format', 'Is Laundering')}\")"
   ]
  },
  {
   "cell_type": "code",
   "execution_count": null,
   "id": "ceb11f9d",
   "metadata": {},
   "outputs": [
    {
     "data": {
      "text/plain": [
       "Receiving Currency\n",
       "US Dollar            1879341\n",
       "Euro                 1172017\n",
       "Swiss Franc           237884\n",
       "Yuan                  206551\n",
       "Shekel                194988\n",
       "Rupee                 192065\n",
       "UK Pound              181255\n",
       "Ruble                 157361\n",
       "Yen                   156319\n",
       "Bitcoin               148142\n",
       "Canadian Dollar       141357\n",
       "Australian Dollar     138511\n",
       "Mexican Peso          111030\n",
       "Saudi Riyal            89971\n",
       "Brazil Real            71544\n",
       "Name: count, dtype: int64"
      ]
     },
     "execution_count": 29,
     "metadata": {},
     "output_type": "execute_result"
    }
   ],
   "source": [
    "df['Receiving Currency'].value_counts()"
   ]
  },
  {
   "cell_type": "code",
   "execution_count": null,
   "id": "ae696251",
   "metadata": {},
   "outputs": [
    {
     "data": {
      "text/plain": [
       "Payment Currency\n",
       "US Dollar            1895169\n",
       "Euro                 1168296\n",
       "Swiss Franc           234860\n",
       "Yuan                  213752\n",
       "Shekel                192184\n",
       "Rupee                 190202\n",
       "UK Pound              180738\n",
       "Yen                   155209\n",
       "Ruble                 155178\n",
       "Bitcoin               146061\n",
       "Canadian Dollar       140042\n",
       "Australian Dollar     136769\n",
       "Mexican Peso          110159\n",
       "Saudi Riyal            89014\n",
       "Brazil Real            70703\n",
       "Name: count, dtype: int64"
      ]
     },
     "execution_count": 30,
     "metadata": {},
     "output_type": "execute_result"
    }
   ],
   "source": [
    "df['Payment Currency'].value_counts()"
   ]
  },
  {
   "cell_type": "code",
   "execution_count": null,
   "id": "c734e60b",
   "metadata": {},
   "outputs": [
    {
     "data": {
      "text/plain": [
       "Payment Format\n",
       "Cheque          1864331\n",
       "Credit Card     1323324\n",
       "ACH              600793\n",
       "Cash             490891\n",
       "Reinvestment     481056\n",
       "Wire             171855\n",
       "Bitcoin          146086\n",
       "Name: count, dtype: int64"
      ]
     },
     "execution_count": 31,
     "metadata": {},
     "output_type": "execute_result"
    }
   ],
   "source": [
    "df['Payment Format'].value_counts()"
   ]
  },
  {
   "cell_type": "code",
   "execution_count": null,
   "id": "d0fd9d77",
   "metadata": {},
   "outputs": [
    {
     "data": {
      "text/plain": [
       "Sender Account\n",
       "100428660    168672\n",
       "1004286A8    103018\n",
       "100428978     20497\n",
       "1004286F0     18663\n",
       "100428780     17264\n",
       "              ...  \n",
       "806198930         1\n",
       "806197550         1\n",
       "80127BE50         1\n",
       "8061935F0         1\n",
       "8148A8671         1\n",
       "Name: count, Length: 496995, dtype: int64"
      ]
     },
     "execution_count": 32,
     "metadata": {},
     "output_type": "execute_result"
    }
   ],
   "source": [
    "df['Sender Account'].value_counts()"
   ]
  },
  {
   "cell_type": "code",
   "execution_count": null,
   "id": "368bce0d",
   "metadata": {},
   "outputs": [
    {
     "data": {
      "text/plain": [
       "Receiver Account\n",
       "100428660    1084\n",
       "1004286A8     653\n",
       "80F47A310     159\n",
       "100428978     150\n",
       "8018859B0     144\n",
       "             ... \n",
       "80B14E9D0       1\n",
       "80B159D00       1\n",
       "812577710       1\n",
       "812569750       1\n",
       "80F91C540       1\n",
       "Name: count, Length: 420636, dtype: int64"
      ]
     },
     "execution_count": 33,
     "metadata": {},
     "output_type": "execute_result"
    }
   ],
   "source": [
    "df['Receiver Account'].value_counts()"
   ]
  },
  {
   "cell_type": "code",
   "execution_count": 38,
   "id": "6c2e9783",
   "metadata": {},
   "outputs": [
    {
     "data": {
      "text/html": [
       "<div>\n",
       "<style scoped>\n",
       "    .dataframe tbody tr th:only-of-type {\n",
       "        vertical-align: middle;\n",
       "    }\n",
       "\n",
       "    .dataframe tbody tr th {\n",
       "        vertical-align: top;\n",
       "    }\n",
       "\n",
       "    .dataframe thead th {\n",
       "        text-align: right;\n",
       "    }\n",
       "</style>\n",
       "<table border=\"1\" class=\"dataframe\">\n",
       "  <thead>\n",
       "    <tr style=\"text-align: right;\">\n",
       "      <th></th>\n",
       "      <th>From Bank</th>\n",
       "      <th>Sender Account</th>\n",
       "      <th>To Bank</th>\n",
       "      <th>Receiver Account</th>\n",
       "      <th>Amount Received</th>\n",
       "      <th>Receiving Currency</th>\n",
       "      <th>Amount Paid</th>\n",
       "      <th>Payment Currency</th>\n",
       "      <th>Payment Format</th>\n",
       "      <th>Is Laundering</th>\n",
       "      <th>Day</th>\n",
       "      <th>Hour</th>\n",
       "      <th>Minute</th>\n",
       "    </tr>\n",
       "  </thead>\n",
       "  <tbody>\n",
       "    <tr>\n",
       "      <th>4742</th>\n",
       "      <td>70</td>\n",
       "      <td>100428660</td>\n",
       "      <td>1124</td>\n",
       "      <td>800825340</td>\n",
       "      <td>389769.39</td>\n",
       "      <td>US Dollar</td>\n",
       "      <td>389769.39</td>\n",
       "      <td>US Dollar</td>\n",
       "      <td>Cheque</td>\n",
       "      <td>1</td>\n",
       "      <td>1</td>\n",
       "      <td>0</td>\n",
       "      <td>21</td>\n",
       "    </tr>\n",
       "    <tr>\n",
       "      <th>40621</th>\n",
       "      <td>70</td>\n",
       "      <td>100428660</td>\n",
       "      <td>11474</td>\n",
       "      <td>805B716C0</td>\n",
       "      <td>29024.33</td>\n",
       "      <td>US Dollar</td>\n",
       "      <td>29024.33</td>\n",
       "      <td>US Dollar</td>\n",
       "      <td>Credit Card</td>\n",
       "      <td>1</td>\n",
       "      <td>1</td>\n",
       "      <td>0</td>\n",
       "      <td>3</td>\n",
       "    </tr>\n",
       "    <tr>\n",
       "      <th>69152</th>\n",
       "      <td>70</td>\n",
       "      <td>100428660</td>\n",
       "      <td>15980</td>\n",
       "      <td>80B39E7B0</td>\n",
       "      <td>792.92</td>\n",
       "      <td>US Dollar</td>\n",
       "      <td>792.92</td>\n",
       "      <td>US Dollar</td>\n",
       "      <td>Credit Card</td>\n",
       "      <td>1</td>\n",
       "      <td>1</td>\n",
       "      <td>0</td>\n",
       "      <td>1</td>\n",
       "    </tr>\n",
       "    <tr>\n",
       "      <th>85763</th>\n",
       "      <td>70</td>\n",
       "      <td>100428660</td>\n",
       "      <td>113798</td>\n",
       "      <td>80DC756E0</td>\n",
       "      <td>13171425.53</td>\n",
       "      <td>US Dollar</td>\n",
       "      <td>13171425.53</td>\n",
       "      <td>US Dollar</td>\n",
       "      <td>Cheque</td>\n",
       "      <td>1</td>\n",
       "      <td>1</td>\n",
       "      <td>0</td>\n",
       "      <td>3</td>\n",
       "    </tr>\n",
       "    <tr>\n",
       "      <th>90684</th>\n",
       "      <td>70</td>\n",
       "      <td>100428660</td>\n",
       "      <td>32375</td>\n",
       "      <td>80E480620</td>\n",
       "      <td>14288.83</td>\n",
       "      <td>US Dollar</td>\n",
       "      <td>14288.83</td>\n",
       "      <td>US Dollar</td>\n",
       "      <td>Cash</td>\n",
       "      <td>1</td>\n",
       "      <td>1</td>\n",
       "      <td>0</td>\n",
       "      <td>23</td>\n",
       "    </tr>\n",
       "    <tr>\n",
       "      <th>...</th>\n",
       "      <td>...</td>\n",
       "      <td>...</td>\n",
       "      <td>...</td>\n",
       "      <td>...</td>\n",
       "      <td>...</td>\n",
       "      <td>...</td>\n",
       "      <td>...</td>\n",
       "      <td>...</td>\n",
       "      <td>...</td>\n",
       "      <td>...</td>\n",
       "      <td>...</td>\n",
       "      <td>...</td>\n",
       "      <td>...</td>\n",
       "    </tr>\n",
       "    <tr>\n",
       "      <th>5071159</th>\n",
       "      <td>111433</td>\n",
       "      <td>8065C2380</td>\n",
       "      <td>21550</td>\n",
       "      <td>8065C69E0</td>\n",
       "      <td>7773.42</td>\n",
       "      <td>US Dollar</td>\n",
       "      <td>7773.42</td>\n",
       "      <td>US Dollar</td>\n",
       "      <td>ACH</td>\n",
       "      <td>1</td>\n",
       "      <td>10</td>\n",
       "      <td>23</td>\n",
       "      <td>29</td>\n",
       "    </tr>\n",
       "    <tr>\n",
       "      <th>5073366</th>\n",
       "      <td>9</td>\n",
       "      <td>80727F930</td>\n",
       "      <td>219557</td>\n",
       "      <td>8072A28C0</td>\n",
       "      <td>448920.65</td>\n",
       "      <td>Ruble</td>\n",
       "      <td>448920.65</td>\n",
       "      <td>Ruble</td>\n",
       "      <td>Cheque</td>\n",
       "      <td>1</td>\n",
       "      <td>10</td>\n",
       "      <td>23</td>\n",
       "      <td>7</td>\n",
       "    </tr>\n",
       "    <tr>\n",
       "      <th>5074239</th>\n",
       "      <td>222</td>\n",
       "      <td>812D127D0</td>\n",
       "      <td>50202</td>\n",
       "      <td>812D129C0</td>\n",
       "      <td>20085.71</td>\n",
       "      <td>Saudi Riyal</td>\n",
       "      <td>20085.71</td>\n",
       "      <td>Saudi Riyal</td>\n",
       "      <td>ACH</td>\n",
       "      <td>1</td>\n",
       "      <td>12</td>\n",
       "      <td>3</td>\n",
       "      <td>34</td>\n",
       "    </tr>\n",
       "    <tr>\n",
       "      <th>5075047</th>\n",
       "      <td>17327</td>\n",
       "      <td>8095F6C20</td>\n",
       "      <td>15695</td>\n",
       "      <td>8095F6C70</td>\n",
       "      <td>3314.36</td>\n",
       "      <td>US Dollar</td>\n",
       "      <td>3314.36</td>\n",
       "      <td>US Dollar</td>\n",
       "      <td>ACH</td>\n",
       "      <td>1</td>\n",
       "      <td>10</td>\n",
       "      <td>23</td>\n",
       "      <td>43</td>\n",
       "    </tr>\n",
       "    <tr>\n",
       "      <th>5077195</th>\n",
       "      <td>3</td>\n",
       "      <td>804FAA470</td>\n",
       "      <td>212789</td>\n",
       "      <td>804FAD580</td>\n",
       "      <td>3564699.78</td>\n",
       "      <td>Rupee</td>\n",
       "      <td>3564699.78</td>\n",
       "      <td>Rupee</td>\n",
       "      <td>ACH</td>\n",
       "      <td>1</td>\n",
       "      <td>10</td>\n",
       "      <td>23</td>\n",
       "      <td>53</td>\n",
       "    </tr>\n",
       "  </tbody>\n",
       "</table>\n",
       "<p>5177 rows × 13 columns</p>\n",
       "</div>"
      ],
      "text/plain": [
       "         From Bank Sender Account  To Bank Receiver Account  Amount Received  \\\n",
       "4742            70      100428660     1124        800825340        389769.39   \n",
       "40621           70      100428660    11474        805B716C0         29024.33   \n",
       "69152           70      100428660    15980        80B39E7B0           792.92   \n",
       "85763           70      100428660   113798        80DC756E0      13171425.53   \n",
       "90684           70      100428660    32375        80E480620         14288.83   \n",
       "...            ...            ...      ...              ...              ...   \n",
       "5071159     111433      8065C2380    21550        8065C69E0          7773.42   \n",
       "5073366          9      80727F930   219557        8072A28C0        448920.65   \n",
       "5074239        222      812D127D0    50202        812D129C0         20085.71   \n",
       "5075047      17327      8095F6C20    15695        8095F6C70          3314.36   \n",
       "5077195          3      804FAA470   212789        804FAD580       3564699.78   \n",
       "\n",
       "        Receiving Currency  Amount Paid Payment Currency Payment Format  \\\n",
       "4742             US Dollar    389769.39        US Dollar         Cheque   \n",
       "40621            US Dollar     29024.33        US Dollar    Credit Card   \n",
       "69152            US Dollar       792.92        US Dollar    Credit Card   \n",
       "85763            US Dollar  13171425.53        US Dollar         Cheque   \n",
       "90684            US Dollar     14288.83        US Dollar           Cash   \n",
       "...                    ...          ...              ...            ...   \n",
       "5071159          US Dollar      7773.42        US Dollar            ACH   \n",
       "5073366              Ruble    448920.65            Ruble         Cheque   \n",
       "5074239        Saudi Riyal     20085.71      Saudi Riyal            ACH   \n",
       "5075047          US Dollar      3314.36        US Dollar            ACH   \n",
       "5077195              Rupee   3564699.78            Rupee            ACH   \n",
       "\n",
       "         Is Laundering  Day  Hour  Minute  \n",
       "4742                 1    1     0      21  \n",
       "40621                1    1     0       3  \n",
       "69152                1    1     0       1  \n",
       "85763                1    1     0       3  \n",
       "90684                1    1     0      23  \n",
       "...                ...  ...   ...     ...  \n",
       "5071159              1   10    23      29  \n",
       "5073366              1   10    23       7  \n",
       "5074239              1   12     3      34  \n",
       "5075047              1   10    23      43  \n",
       "5077195              1   10    23      53  \n",
       "\n",
       "[5177 rows x 13 columns]"
      ]
     },
     "execution_count": 38,
     "metadata": {},
     "output_type": "execute_result"
    }
   ],
   "source": [
    "df[df['Is Laundering']==1]"
   ]
  },
  {
   "cell_type": "code",
   "execution_count": 40,
   "id": "dc023b19",
   "metadata": {},
   "outputs": [
    {
     "data": {
      "text/plain": [
       "Sender Account\n",
       "100428660    243\n",
       "1004286A8    158\n",
       "100428978     29\n",
       "80266F880     29\n",
       "100428810     26\n",
       "            ... \n",
       "80AAB0290      1\n",
       "80C7075C0      1\n",
       "801BCE220      1\n",
       "80E35A3D0      1\n",
       "804FAA470      1\n",
       "Name: count, Length: 3376, dtype: int64"
      ]
     },
     "execution_count": 40,
     "metadata": {},
     "output_type": "execute_result"
    }
   ],
   "source": [
    "# laundering_senders\n",
    "df[df['Is Laundering'] == 1]['Sender Account'].value_counts()"
   ]
  },
  {
   "cell_type": "code",
   "execution_count": 41,
   "id": "10daa6b6",
   "metadata": {},
   "outputs": [
    {
     "data": {
      "text/plain": [
       "Receiver Account\n",
       "811C599A0    31\n",
       "8021353D0    28\n",
       "811C597B0    23\n",
       "80266F880    22\n",
       "811ED7DF0    20\n",
       "             ..\n",
       "80CE42970     1\n",
       "812D8B310     1\n",
       "804EDE8F0     1\n",
       "80DB5D190     1\n",
       "804FAD580     1\n",
       "Name: count, Length: 3984, dtype: int64"
      ]
     },
     "execution_count": 41,
     "metadata": {},
     "output_type": "execute_result"
    }
   ],
   "source": [
    "# laundering_receivers\n",
    "df[df['Is Laundering'] == 1]['Receiver Account'].value_counts()"
   ]
  },
  {
   "cell_type": "code",
   "execution_count": 42,
   "id": "0ddfbca8",
   "metadata": {},
   "outputs": [
    {
     "data": {
      "text/plain": [
       "Receiving Currency\n",
       "US Dollar            1912\n",
       "Euro                 1372\n",
       "Saudi Riyal           374\n",
       "Swiss Franc           193\n",
       "Yuan                  184\n",
       "Rupee                 167\n",
       "Yen                   155\n",
       "Ruble                 133\n",
       "UK Pound              132\n",
       "Canadian Dollar       128\n",
       "Australian Dollar     127\n",
       "Shekel                 95\n",
       "Mexican Peso           92\n",
       "Brazil Real            57\n",
       "Bitcoin                56\n",
       "Name: count, dtype: int64"
      ]
     },
     "execution_count": 42,
     "metadata": {},
     "output_type": "execute_result"
    }
   ],
   "source": [
    "# laundering received currency\n",
    "df[df['Is Laundering']==1]['Receiving Currency'].value_counts()"
   ]
  },
  {
   "cell_type": "code",
   "execution_count": 43,
   "id": "f4b14079",
   "metadata": {},
   "outputs": [
    {
     "data": {
      "text/plain": [
       "Payment Currency\n",
       "US Dollar            1912\n",
       "Euro                 1372\n",
       "Saudi Riyal           374\n",
       "Swiss Franc           193\n",
       "Yuan                  184\n",
       "Rupee                 167\n",
       "Yen                   155\n",
       "Ruble                 133\n",
       "UK Pound              132\n",
       "Canadian Dollar       128\n",
       "Australian Dollar     127\n",
       "Shekel                 95\n",
       "Mexican Peso           92\n",
       "Brazil Real            57\n",
       "Bitcoin                56\n",
       "Name: count, dtype: int64"
      ]
     },
     "execution_count": 43,
     "metadata": {},
     "output_type": "execute_result"
    }
   ],
   "source": [
    "# laundering sent payment currency\n",
    "df[df['Is Laundering']==1]['Payment Currency'].value_counts()"
   ]
  },
  {
   "cell_type": "code",
   "execution_count": 44,
   "id": "65fce332",
   "metadata": {},
   "outputs": [
    {
     "data": {
      "text/plain": [
       "Payment Format\n",
       "ACH            4483\n",
       "Cheque          324\n",
       "Credit Card     206\n",
       "Cash            108\n",
       "Bitcoin          56\n",
       "Name: count, dtype: int64"
      ]
     },
     "execution_count": 44,
     "metadata": {},
     "output_type": "execute_result"
    }
   ],
   "source": [
    "# laundering payment format\n",
    "df[df['Is Laundering']==1]['Payment Format'].value_counts()"
   ]
  },
  {
   "cell_type": "markdown",
   "id": "d6ec344f",
   "metadata": {},
   "source": [
    "## Analysis of numeric variables"
   ]
  },
  {
   "cell_type": "code",
   "execution_count": 45,
   "id": "bbe8d1a9",
   "metadata": {},
   "outputs": [
    {
     "data": {
      "text/html": [
       "<div>\n",
       "<style scoped>\n",
       "    .dataframe tbody tr th:only-of-type {\n",
       "        vertical-align: middle;\n",
       "    }\n",
       "\n",
       "    .dataframe tbody tr th {\n",
       "        vertical-align: top;\n",
       "    }\n",
       "\n",
       "    .dataframe thead th {\n",
       "        text-align: right;\n",
       "    }\n",
       "</style>\n",
       "<table border=\"1\" class=\"dataframe\">\n",
       "  <thead>\n",
       "    <tr style=\"text-align: right;\">\n",
       "      <th></th>\n",
       "      <th>From Bank</th>\n",
       "      <th>To Bank</th>\n",
       "      <th>Amount Received</th>\n",
       "      <th>Amount Paid</th>\n",
       "      <th>Is Laundering</th>\n",
       "      <th>Day</th>\n",
       "      <th>Hour</th>\n",
       "      <th>Minute</th>\n",
       "    </tr>\n",
       "  </thead>\n",
       "  <tbody>\n",
       "    <tr>\n",
       "      <th>From Bank</th>\n",
       "      <td>1.000000</td>\n",
       "      <td>0.289930</td>\n",
       "      <td>-0.000909</td>\n",
       "      <td>-0.000442</td>\n",
       "      <td>-0.000230</td>\n",
       "      <td>-0.063675</td>\n",
       "      <td>-0.044674</td>\n",
       "      <td>-0.024971</td>\n",
       "    </tr>\n",
       "    <tr>\n",
       "      <th>To Bank</th>\n",
       "      <td>0.289930</td>\n",
       "      <td>1.000000</td>\n",
       "      <td>-0.000523</td>\n",
       "      <td>0.000406</td>\n",
       "      <td>-0.005723</td>\n",
       "      <td>-0.020700</td>\n",
       "      <td>-0.010669</td>\n",
       "      <td>-0.005096</td>\n",
       "    </tr>\n",
       "    <tr>\n",
       "      <th>Amount Received</th>\n",
       "      <td>-0.000909</td>\n",
       "      <td>-0.000523</td>\n",
       "      <td>1.000000</td>\n",
       "      <td>0.843147</td>\n",
       "      <td>0.000929</td>\n",
       "      <td>-0.001124</td>\n",
       "      <td>0.000281</td>\n",
       "      <td>0.001140</td>\n",
       "    </tr>\n",
       "    <tr>\n",
       "      <th>Amount Paid</th>\n",
       "      <td>-0.000442</td>\n",
       "      <td>0.000406</td>\n",
       "      <td>0.843147</td>\n",
       "      <td>1.000000</td>\n",
       "      <td>0.001162</td>\n",
       "      <td>-0.001107</td>\n",
       "      <td>0.000056</td>\n",
       "      <td>0.000724</td>\n",
       "    </tr>\n",
       "    <tr>\n",
       "      <th>Is Laundering</th>\n",
       "      <td>-0.000230</td>\n",
       "      <td>-0.005723</td>\n",
       "      <td>0.000929</td>\n",
       "      <td>0.001162</td>\n",
       "      <td>1.000000</td>\n",
       "      <td>0.018885</td>\n",
       "      <td>0.005488</td>\n",
       "      <td>0.002061</td>\n",
       "    </tr>\n",
       "    <tr>\n",
       "      <th>Day</th>\n",
       "      <td>-0.063675</td>\n",
       "      <td>-0.020700</td>\n",
       "      <td>-0.001124</td>\n",
       "      <td>-0.001107</td>\n",
       "      <td>0.018885</td>\n",
       "      <td>1.000000</td>\n",
       "      <td>0.103235</td>\n",
       "      <td>0.058341</td>\n",
       "    </tr>\n",
       "    <tr>\n",
       "      <th>Hour</th>\n",
       "      <td>-0.044674</td>\n",
       "      <td>-0.010669</td>\n",
       "      <td>0.000281</td>\n",
       "      <td>0.000056</td>\n",
       "      <td>0.005488</td>\n",
       "      <td>0.103235</td>\n",
       "      <td>1.000000</td>\n",
       "      <td>0.107665</td>\n",
       "    </tr>\n",
       "    <tr>\n",
       "      <th>Minute</th>\n",
       "      <td>-0.024971</td>\n",
       "      <td>-0.005096</td>\n",
       "      <td>0.001140</td>\n",
       "      <td>0.000724</td>\n",
       "      <td>0.002061</td>\n",
       "      <td>0.058341</td>\n",
       "      <td>0.107665</td>\n",
       "      <td>1.000000</td>\n",
       "    </tr>\n",
       "  </tbody>\n",
       "</table>\n",
       "</div>"
      ],
      "text/plain": [
       "                 From Bank   To Bank  Amount Received  Amount Paid  \\\n",
       "From Bank         1.000000  0.289930        -0.000909    -0.000442   \n",
       "To Bank           0.289930  1.000000        -0.000523     0.000406   \n",
       "Amount Received  -0.000909 -0.000523         1.000000     0.843147   \n",
       "Amount Paid      -0.000442  0.000406         0.843147     1.000000   \n",
       "Is Laundering    -0.000230 -0.005723         0.000929     0.001162   \n",
       "Day              -0.063675 -0.020700        -0.001124    -0.001107   \n",
       "Hour             -0.044674 -0.010669         0.000281     0.000056   \n",
       "Minute           -0.024971 -0.005096         0.001140     0.000724   \n",
       "\n",
       "                 Is Laundering       Day      Hour    Minute  \n",
       "From Bank            -0.000230 -0.063675 -0.044674 -0.024971  \n",
       "To Bank              -0.005723 -0.020700 -0.010669 -0.005096  \n",
       "Amount Received       0.000929 -0.001124  0.000281  0.001140  \n",
       "Amount Paid           0.001162 -0.001107  0.000056  0.000724  \n",
       "Is Laundering         1.000000  0.018885  0.005488  0.002061  \n",
       "Day                   0.018885  1.000000  0.103235  0.058341  \n",
       "Hour                  0.005488  0.103235  1.000000  0.107665  \n",
       "Minute                0.002061  0.058341  0.107665  1.000000  "
      ]
     },
     "execution_count": 45,
     "metadata": {},
     "output_type": "execute_result"
    }
   ],
   "source": [
    "df[df.select_dtypes(include='number').columns].corr()"
   ]
  },
  {
   "cell_type": "code",
   "execution_count": 46,
   "id": "26e8bf6f",
   "metadata": {},
   "outputs": [
    {
     "data": {
      "text/plain": [
       "From Bank\n",
       "70        449859\n",
       "10         81629\n",
       "12         79754\n",
       "1          62211\n",
       "15         52511\n",
       "           ...  \n",
       "351005         1\n",
       "351022         1\n",
       "349350         1\n",
       "340466         1\n",
       "336827         1\n",
       "Name: count, Length: 30470, dtype: int64"
      ]
     },
     "execution_count": 46,
     "metadata": {},
     "output_type": "execute_result"
    }
   ],
   "source": [
    "df['From Bank'].value_counts()"
   ]
  },
  {
   "cell_type": "code",
   "execution_count": 47,
   "id": "e036dcc8",
   "metadata": {},
   "outputs": [
    {
     "data": {
      "text/plain": [
       "To Bank\n",
       "10        42547\n",
       "12        41872\n",
       "15        38720\n",
       "220       30623\n",
       "1         30115\n",
       "          ...  \n",
       "355235        1\n",
       "314154        1\n",
       "319451        1\n",
       "337181        1\n",
       "352782        1\n",
       "Name: count, Length: 15811, dtype: int64"
      ]
     },
     "execution_count": 47,
     "metadata": {},
     "output_type": "execute_result"
    }
   ],
   "source": [
    "df['To Bank'].value_counts()"
   ]
  },
  {
   "cell_type": "code",
   "execution_count": 48,
   "id": "3fcfa6aa",
   "metadata": {},
   "outputs": [
    {
     "data": {
      "text/plain": [
       "Amount Paid\n",
       "1.000000e-02    4562\n",
       "2.000000e-02    1771\n",
       "3.000000e-02    1146\n",
       "4.000000e-02     795\n",
       "5.000000e-02     611\n",
       "                ... \n",
       "2.607345e+04       1\n",
       "3.011200e+05       1\n",
       "1.768681e+06       1\n",
       "2.042131e+06       1\n",
       "2.819830e-01       1\n",
       "Name: count, Length: 923873, dtype: int64"
      ]
     },
     "execution_count": 48,
     "metadata": {},
     "output_type": "execute_result"
    }
   ],
   "source": [
    "df['Amount Paid'].value_counts()"
   ]
  },
  {
   "cell_type": "code",
   "execution_count": 49,
   "id": "53941480",
   "metadata": {},
   "outputs": [
    {
     "data": {
      "text/plain": [
       "Amount Received\n",
       "0.010000         4368\n",
       "0.020000         1574\n",
       "0.030000         1074\n",
       "0.040000          735\n",
       "0.000001          625\n",
       "                 ... \n",
       "374868.900000       1\n",
       "67193.580000        1\n",
       "36965.360000        1\n",
       "18435.110000        1\n",
       "0.281983            1\n",
       "Name: count, Length: 915161, dtype: int64"
      ]
     },
     "execution_count": 49,
     "metadata": {},
     "output_type": "execute_result"
    }
   ],
   "source": [
    "df['Amount Received'].value_counts()"
   ]
  },
  {
   "cell_type": "code",
   "execution_count": 50,
   "id": "098ab4ed",
   "metadata": {},
   "outputs": [
    {
     "data": {
      "text/plain": [
       "Day\n",
       "1     1114919\n",
       "2      754449\n",
       "9      654463\n",
       "8      482771\n",
       "7      482750\n",
       "5      482650\n",
       "6      482089\n",
       "10     208325\n",
       "4      207430\n",
       "3      207382\n",
       "11        396\n",
       "12        281\n",
       "13        184\n",
       "14        121\n",
       "15         46\n",
       "16         46\n",
       "17         23\n",
       "18         11\n",
       "Name: count, dtype: int64"
      ]
     },
     "execution_count": 50,
     "metadata": {},
     "output_type": "execute_result"
    }
   ],
   "source": [
    "df['Day'].value_counts()"
   ]
  },
  {
   "cell_type": "code",
   "execution_count": 51,
   "id": "9a817341",
   "metadata": {},
   "outputs": [
    {
     "data": {
      "text/plain": [
       "Hour\n",
       "0     634726\n",
       "15    194871\n",
       "6     194456\n",
       "5     193900\n",
       "1     193728\n",
       "11    193500\n",
       "16    193405\n",
       "23    193345\n",
       "7     193336\n",
       "18    193321\n",
       "3     193249\n",
       "10    193227\n",
       "4     193166\n",
       "17    193154\n",
       "2     193143\n",
       "12    192972\n",
       "9     192952\n",
       "8     192921\n",
       "19    192824\n",
       "20    192809\n",
       "14    192787\n",
       "13    192521\n",
       "21    192187\n",
       "22    191836\n",
       "Name: count, dtype: int64"
      ]
     },
     "execution_count": 51,
     "metadata": {},
     "output_type": "execute_result"
    }
   ],
   "source": [
    "df['Hour'].value_counts()"
   ]
  },
  {
   "cell_type": "code",
   "execution_count": 52,
   "id": "fad94f53",
   "metadata": {},
   "outputs": [
    {
     "data": {
      "text/plain": [
       "Minute\n",
       "4     92693\n",
       "7     92649\n",
       "23    92567\n",
       "21    92421\n",
       "26    92333\n",
       "5     92332\n",
       "28    92312\n",
       "24    92191\n",
       "14    92184\n",
       "17    92150\n",
       "6     92106\n",
       "27    92089\n",
       "3     92044\n",
       "16    92017\n",
       "1     92003\n",
       "18    91961\n",
       "8     91943\n",
       "29    91912\n",
       "22    91896\n",
       "13    91893\n",
       "10    91874\n",
       "0     91857\n",
       "20    91820\n",
       "25    91819\n",
       "9     91814\n",
       "2     91746\n",
       "19    91660\n",
       "12    91465\n",
       "15    91318\n",
       "11    91094\n",
       "35    78195\n",
       "57    77830\n",
       "40    77651\n",
       "30    77576\n",
       "58    77553\n",
       "46    77482\n",
       "34    77472\n",
       "59    77464\n",
       "38    77459\n",
       "54    77389\n",
       "53    77359\n",
       "41    77341\n",
       "48    77323\n",
       "49    77286\n",
       "39    77229\n",
       "56    77186\n",
       "55    77180\n",
       "51    77166\n",
       "45    77165\n",
       "52    77163\n",
       "42    77084\n",
       "32    77075\n",
       "36    77072\n",
       "31    77061\n",
       "47    77051\n",
       "50    76979\n",
       "37    76917\n",
       "43    76895\n",
       "44    76869\n",
       "33    76701\n",
       "Name: count, dtype: int64"
      ]
     },
     "execution_count": 52,
     "metadata": {},
     "output_type": "execute_result"
    }
   ],
   "source": [
    "df['Minute'].value_counts()"
   ]
  },
  {
   "cell_type": "markdown",
   "id": "91660d04",
   "metadata": {},
   "source": [
    "## Train Test Split"
   ]
  },
  {
   "cell_type": "code",
   "execution_count": 53,
   "id": "2d57671f",
   "metadata": {},
   "outputs": [
    {
     "data": {
      "text/plain": [
       "(5078336, 13)"
      ]
     },
     "execution_count": 53,
     "metadata": {},
     "output_type": "execute_result"
    }
   ],
   "source": [
    "df.shape"
   ]
  },
  {
   "cell_type": "code",
   "execution_count": 54,
   "id": "5c779696",
   "metadata": {},
   "outputs": [],
   "source": [
    "X = df.drop(columns=['Is Laundering'])\n",
    "y = df['Is Laundering']"
   ]
  },
  {
   "cell_type": "code",
   "execution_count": 55,
   "id": "09c3a46b",
   "metadata": {},
   "outputs": [
    {
     "data": {
      "text/html": [
       "<div>\n",
       "<style scoped>\n",
       "    .dataframe tbody tr th:only-of-type {\n",
       "        vertical-align: middle;\n",
       "    }\n",
       "\n",
       "    .dataframe tbody tr th {\n",
       "        vertical-align: top;\n",
       "    }\n",
       "\n",
       "    .dataframe thead th {\n",
       "        text-align: right;\n",
       "    }\n",
       "</style>\n",
       "<table border=\"1\" class=\"dataframe\">\n",
       "  <thead>\n",
       "    <tr style=\"text-align: right;\">\n",
       "      <th></th>\n",
       "      <th>From Bank</th>\n",
       "      <th>Sender Account</th>\n",
       "      <th>To Bank</th>\n",
       "      <th>Receiver Account</th>\n",
       "      <th>Amount Received</th>\n",
       "      <th>Receiving Currency</th>\n",
       "      <th>Amount Paid</th>\n",
       "      <th>Payment Currency</th>\n",
       "      <th>Payment Format</th>\n",
       "      <th>Day</th>\n",
       "      <th>Hour</th>\n",
       "      <th>Minute</th>\n",
       "    </tr>\n",
       "  </thead>\n",
       "  <tbody>\n",
       "    <tr>\n",
       "      <th>0</th>\n",
       "      <td>10</td>\n",
       "      <td>8000EBD30</td>\n",
       "      <td>10</td>\n",
       "      <td>8000EBD30</td>\n",
       "      <td>3697.34</td>\n",
       "      <td>US Dollar</td>\n",
       "      <td>3697.34</td>\n",
       "      <td>US Dollar</td>\n",
       "      <td>Reinvestment</td>\n",
       "      <td>1</td>\n",
       "      <td>0</td>\n",
       "      <td>20</td>\n",
       "    </tr>\n",
       "    <tr>\n",
       "      <th>1</th>\n",
       "      <td>3208</td>\n",
       "      <td>8000F4580</td>\n",
       "      <td>1</td>\n",
       "      <td>8000F5340</td>\n",
       "      <td>0.01</td>\n",
       "      <td>US Dollar</td>\n",
       "      <td>0.01</td>\n",
       "      <td>US Dollar</td>\n",
       "      <td>Cheque</td>\n",
       "      <td>1</td>\n",
       "      <td>0</td>\n",
       "      <td>20</td>\n",
       "    </tr>\n",
       "    <tr>\n",
       "      <th>2</th>\n",
       "      <td>3209</td>\n",
       "      <td>8000F4670</td>\n",
       "      <td>3209</td>\n",
       "      <td>8000F4670</td>\n",
       "      <td>14675.57</td>\n",
       "      <td>US Dollar</td>\n",
       "      <td>14675.57</td>\n",
       "      <td>US Dollar</td>\n",
       "      <td>Reinvestment</td>\n",
       "      <td>1</td>\n",
       "      <td>0</td>\n",
       "      <td>0</td>\n",
       "    </tr>\n",
       "    <tr>\n",
       "      <th>3</th>\n",
       "      <td>12</td>\n",
       "      <td>8000F5030</td>\n",
       "      <td>12</td>\n",
       "      <td>8000F5030</td>\n",
       "      <td>2806.97</td>\n",
       "      <td>US Dollar</td>\n",
       "      <td>2806.97</td>\n",
       "      <td>US Dollar</td>\n",
       "      <td>Reinvestment</td>\n",
       "      <td>1</td>\n",
       "      <td>0</td>\n",
       "      <td>2</td>\n",
       "    </tr>\n",
       "    <tr>\n",
       "      <th>4</th>\n",
       "      <td>10</td>\n",
       "      <td>8000F5200</td>\n",
       "      <td>10</td>\n",
       "      <td>8000F5200</td>\n",
       "      <td>36682.97</td>\n",
       "      <td>US Dollar</td>\n",
       "      <td>36682.97</td>\n",
       "      <td>US Dollar</td>\n",
       "      <td>Reinvestment</td>\n",
       "      <td>1</td>\n",
       "      <td>0</td>\n",
       "      <td>6</td>\n",
       "    </tr>\n",
       "  </tbody>\n",
       "</table>\n",
       "</div>"
      ],
      "text/plain": [
       "   From Bank Sender Account  To Bank Receiver Account  Amount Received  \\\n",
       "0         10      8000EBD30       10        8000EBD30          3697.34   \n",
       "1       3208      8000F4580        1        8000F5340             0.01   \n",
       "2       3209      8000F4670     3209        8000F4670         14675.57   \n",
       "3         12      8000F5030       12        8000F5030          2806.97   \n",
       "4         10      8000F5200       10        8000F5200         36682.97   \n",
       "\n",
       "  Receiving Currency  Amount Paid Payment Currency Payment Format  Day  Hour  \\\n",
       "0          US Dollar      3697.34        US Dollar   Reinvestment    1     0   \n",
       "1          US Dollar         0.01        US Dollar         Cheque    1     0   \n",
       "2          US Dollar     14675.57        US Dollar   Reinvestment    1     0   \n",
       "3          US Dollar      2806.97        US Dollar   Reinvestment    1     0   \n",
       "4          US Dollar     36682.97        US Dollar   Reinvestment    1     0   \n",
       "\n",
       "   Minute  \n",
       "0      20  \n",
       "1      20  \n",
       "2       0  \n",
       "3       2  \n",
       "4       6  "
      ]
     },
     "execution_count": 55,
     "metadata": {},
     "output_type": "execute_result"
    }
   ],
   "source": [
    "X.head()"
   ]
  },
  {
   "cell_type": "code",
   "execution_count": 56,
   "id": "d01620de",
   "metadata": {},
   "outputs": [
    {
     "data": {
      "text/plain": [
       "Is Laundering\n",
       "0    5073159\n",
       "1       5177\n",
       "Name: count, dtype: int64"
      ]
     },
     "execution_count": 56,
     "metadata": {},
     "output_type": "execute_result"
    }
   ],
   "source": [
    "y.value_counts()"
   ]
  },
  {
   "cell_type": "code",
   "execution_count": 61,
   "id": "163937c5",
   "metadata": {},
   "outputs": [],
   "source": [
    "X_train, X_test, y_train, y_test = train_test_split(X, y, test_size=0.33, stratify=y, random_state=42)"
   ]
  },
  {
   "cell_type": "code",
   "execution_count": 62,
   "id": "f6f06e87",
   "metadata": {},
   "outputs": [
    {
     "data": {
      "text/html": [
       "<div>\n",
       "<style scoped>\n",
       "    .dataframe tbody tr th:only-of-type {\n",
       "        vertical-align: middle;\n",
       "    }\n",
       "\n",
       "    .dataframe tbody tr th {\n",
       "        vertical-align: top;\n",
       "    }\n",
       "\n",
       "    .dataframe thead th {\n",
       "        text-align: right;\n",
       "    }\n",
       "</style>\n",
       "<table border=\"1\" class=\"dataframe\">\n",
       "  <thead>\n",
       "    <tr style=\"text-align: right;\">\n",
       "      <th></th>\n",
       "      <th>From Bank</th>\n",
       "      <th>Sender Account</th>\n",
       "      <th>To Bank</th>\n",
       "      <th>Receiver Account</th>\n",
       "      <th>Amount Received</th>\n",
       "      <th>Receiving Currency</th>\n",
       "      <th>Amount Paid</th>\n",
       "      <th>Payment Currency</th>\n",
       "      <th>Payment Format</th>\n",
       "      <th>Day</th>\n",
       "      <th>Hour</th>\n",
       "      <th>Minute</th>\n",
       "    </tr>\n",
       "  </thead>\n",
       "  <tbody>\n",
       "    <tr>\n",
       "      <th>4891123</th>\n",
       "      <td>5627</td>\n",
       "      <td>8030205D0</td>\n",
       "      <td>29191</td>\n",
       "      <td>81156ED40</td>\n",
       "      <td>8096.00</td>\n",
       "      <td>Yuan</td>\n",
       "      <td>8096.00</td>\n",
       "      <td>Yuan</td>\n",
       "      <td>Credit Card</td>\n",
       "      <td>10</td>\n",
       "      <td>0</td>\n",
       "      <td>51</td>\n",
       "    </tr>\n",
       "    <tr>\n",
       "      <th>4301880</th>\n",
       "      <td>20</td>\n",
       "      <td>80017C540</td>\n",
       "      <td>12</td>\n",
       "      <td>80017DAD0</td>\n",
       "      <td>176.57</td>\n",
       "      <td>Euro</td>\n",
       "      <td>176.57</td>\n",
       "      <td>Euro</td>\n",
       "      <td>Credit Card</td>\n",
       "      <td>9</td>\n",
       "      <td>2</td>\n",
       "      <td>39</td>\n",
       "    </tr>\n",
       "    <tr>\n",
       "      <th>2335358</th>\n",
       "      <td>9417</td>\n",
       "      <td>80370D660</td>\n",
       "      <td>232304</td>\n",
       "      <td>80E8A59F0</td>\n",
       "      <td>22570.98</td>\n",
       "      <td>Yuan</td>\n",
       "      <td>22570.98</td>\n",
       "      <td>Yuan</td>\n",
       "      <td>Cheque</td>\n",
       "      <td>5</td>\n",
       "      <td>1</td>\n",
       "      <td>38</td>\n",
       "    </tr>\n",
       "    <tr>\n",
       "      <th>226981</th>\n",
       "      <td>6</td>\n",
       "      <td>804D528C0</td>\n",
       "      <td>112931</td>\n",
       "      <td>805252600</td>\n",
       "      <td>71605.14</td>\n",
       "      <td>Rupee</td>\n",
       "      <td>71605.14</td>\n",
       "      <td>Rupee</td>\n",
       "      <td>Credit Card</td>\n",
       "      <td>1</td>\n",
       "      <td>0</td>\n",
       "      <td>8</td>\n",
       "    </tr>\n",
       "    <tr>\n",
       "      <th>706937</th>\n",
       "      <td>15</td>\n",
       "      <td>8039E31B0</td>\n",
       "      <td>210319</td>\n",
       "      <td>803CC8270</td>\n",
       "      <td>35757.33</td>\n",
       "      <td>Yen</td>\n",
       "      <td>35757.33</td>\n",
       "      <td>Yen</td>\n",
       "      <td>Cash</td>\n",
       "      <td>1</td>\n",
       "      <td>11</td>\n",
       "      <td>30</td>\n",
       "    </tr>\n",
       "    <tr>\n",
       "      <th>...</th>\n",
       "      <td>...</td>\n",
       "      <td>...</td>\n",
       "      <td>...</td>\n",
       "      <td>...</td>\n",
       "      <td>...</td>\n",
       "      <td>...</td>\n",
       "      <td>...</td>\n",
       "      <td>...</td>\n",
       "      <td>...</td>\n",
       "      <td>...</td>\n",
       "      <td>...</td>\n",
       "      <td>...</td>\n",
       "    </tr>\n",
       "    <tr>\n",
       "      <th>4638536</th>\n",
       "      <td>1267</td>\n",
       "      <td>802169B20</td>\n",
       "      <td>112078</td>\n",
       "      <td>80B144970</td>\n",
       "      <td>99544.65</td>\n",
       "      <td>Yuan</td>\n",
       "      <td>99544.65</td>\n",
       "      <td>Yuan</td>\n",
       "      <td>Cheque</td>\n",
       "      <td>9</td>\n",
       "      <td>15</td>\n",
       "      <td>14</td>\n",
       "    </tr>\n",
       "    <tr>\n",
       "      <th>985020</th>\n",
       "      <td>221691</td>\n",
       "      <td>80B81EF30</td>\n",
       "      <td>24161</td>\n",
       "      <td>80C6C8020</td>\n",
       "      <td>1456.44</td>\n",
       "      <td>US Dollar</td>\n",
       "      <td>1456.44</td>\n",
       "      <td>US Dollar</td>\n",
       "      <td>Credit Card</td>\n",
       "      <td>1</td>\n",
       "      <td>20</td>\n",
       "      <td>18</td>\n",
       "    </tr>\n",
       "    <tr>\n",
       "      <th>4312730</th>\n",
       "      <td>14077</td>\n",
       "      <td>803791080</td>\n",
       "      <td>115700</td>\n",
       "      <td>80ACD9A70</td>\n",
       "      <td>172.98</td>\n",
       "      <td>US Dollar</td>\n",
       "      <td>172.98</td>\n",
       "      <td>US Dollar</td>\n",
       "      <td>ACH</td>\n",
       "      <td>9</td>\n",
       "      <td>3</td>\n",
       "      <td>29</td>\n",
       "    </tr>\n",
       "    <tr>\n",
       "      <th>3121734</th>\n",
       "      <td>24856</td>\n",
       "      <td>809867800</td>\n",
       "      <td>24779</td>\n",
       "      <td>809E57DD0</td>\n",
       "      <td>1909.03</td>\n",
       "      <td>Canadian Dollar</td>\n",
       "      <td>1909.03</td>\n",
       "      <td>Canadian Dollar</td>\n",
       "      <td>Credit Card</td>\n",
       "      <td>6</td>\n",
       "      <td>17</td>\n",
       "      <td>15</td>\n",
       "    </tr>\n",
       "    <tr>\n",
       "      <th>152542</th>\n",
       "      <td>18460</td>\n",
       "      <td>806C2AC10</td>\n",
       "      <td>18460</td>\n",
       "      <td>806C2AC10</td>\n",
       "      <td>14535.68</td>\n",
       "      <td>Euro</td>\n",
       "      <td>14535.68</td>\n",
       "      <td>Euro</td>\n",
       "      <td>Reinvestment</td>\n",
       "      <td>1</td>\n",
       "      <td>0</td>\n",
       "      <td>16</td>\n",
       "    </tr>\n",
       "  </tbody>\n",
       "</table>\n",
       "<p>3402485 rows × 12 columns</p>\n",
       "</div>"
      ],
      "text/plain": [
       "         From Bank Sender Account  To Bank Receiver Account  Amount Received  \\\n",
       "4891123       5627      8030205D0    29191        81156ED40          8096.00   \n",
       "4301880         20      80017C540       12        80017DAD0           176.57   \n",
       "2335358       9417      80370D660   232304        80E8A59F0         22570.98   \n",
       "226981           6      804D528C0   112931        805252600         71605.14   \n",
       "706937          15      8039E31B0   210319        803CC8270         35757.33   \n",
       "...            ...            ...      ...              ...              ...   \n",
       "4638536       1267      802169B20   112078        80B144970         99544.65   \n",
       "985020      221691      80B81EF30    24161        80C6C8020          1456.44   \n",
       "4312730      14077      803791080   115700        80ACD9A70           172.98   \n",
       "3121734      24856      809867800    24779        809E57DD0          1909.03   \n",
       "152542       18460      806C2AC10    18460        806C2AC10         14535.68   \n",
       "\n",
       "        Receiving Currency  Amount Paid Payment Currency Payment Format  Day  \\\n",
       "4891123               Yuan      8096.00             Yuan    Credit Card   10   \n",
       "4301880               Euro       176.57             Euro    Credit Card    9   \n",
       "2335358               Yuan     22570.98             Yuan         Cheque    5   \n",
       "226981               Rupee     71605.14            Rupee    Credit Card    1   \n",
       "706937                 Yen     35757.33              Yen           Cash    1   \n",
       "...                    ...          ...              ...            ...  ...   \n",
       "4638536               Yuan     99544.65             Yuan         Cheque    9   \n",
       "985020           US Dollar      1456.44        US Dollar    Credit Card    1   \n",
       "4312730          US Dollar       172.98        US Dollar            ACH    9   \n",
       "3121734    Canadian Dollar      1909.03  Canadian Dollar    Credit Card    6   \n",
       "152542                Euro     14535.68             Euro   Reinvestment    1   \n",
       "\n",
       "         Hour  Minute  \n",
       "4891123     0      51  \n",
       "4301880     2      39  \n",
       "2335358     1      38  \n",
       "226981      0       8  \n",
       "706937     11      30  \n",
       "...       ...     ...  \n",
       "4638536    15      14  \n",
       "985020     20      18  \n",
       "4312730     3      29  \n",
       "3121734    17      15  \n",
       "152542      0      16  \n",
       "\n",
       "[3402485 rows x 12 columns]"
      ]
     },
     "execution_count": 62,
     "metadata": {},
     "output_type": "execute_result"
    }
   ],
   "source": [
    "X_train"
   ]
  },
  {
   "cell_type": "code",
   "execution_count": 63,
   "id": "82947e19",
   "metadata": {},
   "outputs": [
    {
     "data": {
      "text/plain": [
       "Is Laundering\n",
       "0    3399016\n",
       "1       3469\n",
       "Name: count, dtype: int64"
      ]
     },
     "execution_count": 63,
     "metadata": {},
     "output_type": "execute_result"
    }
   ],
   "source": [
    "y_train.value_counts()"
   ]
  },
  {
   "cell_type": "code",
   "execution_count": 64,
   "id": "c33d450f",
   "metadata": {},
   "outputs": [
    {
     "data": {
      "text/html": [
       "<div>\n",
       "<style scoped>\n",
       "    .dataframe tbody tr th:only-of-type {\n",
       "        vertical-align: middle;\n",
       "    }\n",
       "\n",
       "    .dataframe tbody tr th {\n",
       "        vertical-align: top;\n",
       "    }\n",
       "\n",
       "    .dataframe thead th {\n",
       "        text-align: right;\n",
       "    }\n",
       "</style>\n",
       "<table border=\"1\" class=\"dataframe\">\n",
       "  <thead>\n",
       "    <tr style=\"text-align: right;\">\n",
       "      <th></th>\n",
       "      <th>From Bank</th>\n",
       "      <th>Sender Account</th>\n",
       "      <th>To Bank</th>\n",
       "      <th>Receiver Account</th>\n",
       "      <th>Amount Received</th>\n",
       "      <th>Receiving Currency</th>\n",
       "      <th>Amount Paid</th>\n",
       "      <th>Payment Currency</th>\n",
       "      <th>Payment Format</th>\n",
       "      <th>Day</th>\n",
       "      <th>Hour</th>\n",
       "      <th>Minute</th>\n",
       "    </tr>\n",
       "  </thead>\n",
       "  <tbody>\n",
       "    <tr>\n",
       "      <th>1753554</th>\n",
       "      <td>1501</td>\n",
       "      <td>802097E60</td>\n",
       "      <td>16418</td>\n",
       "      <td>8028BE1E0</td>\n",
       "      <td>12891.48</td>\n",
       "      <td>Euro</td>\n",
       "      <td>12891.48</td>\n",
       "      <td>Euro</td>\n",
       "      <td>Credit Card</td>\n",
       "      <td>2</td>\n",
       "      <td>20</td>\n",
       "      <td>23</td>\n",
       "    </tr>\n",
       "    <tr>\n",
       "      <th>3146155</th>\n",
       "      <td>125906</td>\n",
       "      <td>80D03F980</td>\n",
       "      <td>29003</td>\n",
       "      <td>80F337AA0</td>\n",
       "      <td>44.21</td>\n",
       "      <td>US Dollar</td>\n",
       "      <td>44.21</td>\n",
       "      <td>US Dollar</td>\n",
       "      <td>Cheque</td>\n",
       "      <td>6</td>\n",
       "      <td>18</td>\n",
       "      <td>59</td>\n",
       "    </tr>\n",
       "    <tr>\n",
       "      <th>1364530</th>\n",
       "      <td>1412</td>\n",
       "      <td>80177CCF0</td>\n",
       "      <td>214621</td>\n",
       "      <td>80668D4C0</td>\n",
       "      <td>4.28</td>\n",
       "      <td>US Dollar</td>\n",
       "      <td>4.28</td>\n",
       "      <td>US Dollar</td>\n",
       "      <td>Cheque</td>\n",
       "      <td>2</td>\n",
       "      <td>7</td>\n",
       "      <td>35</td>\n",
       "    </tr>\n",
       "    <tr>\n",
       "      <th>4803826</th>\n",
       "      <td>3435</td>\n",
       "      <td>800F39270</td>\n",
       "      <td>22164</td>\n",
       "      <td>800F39220</td>\n",
       "      <td>123.79</td>\n",
       "      <td>US Dollar</td>\n",
       "      <td>123.79</td>\n",
       "      <td>US Dollar</td>\n",
       "      <td>Cash</td>\n",
       "      <td>9</td>\n",
       "      <td>21</td>\n",
       "      <td>36</td>\n",
       "    </tr>\n",
       "    <tr>\n",
       "      <th>4083324</th>\n",
       "      <td>23344</td>\n",
       "      <td>80212BDC0</td>\n",
       "      <td>24850</td>\n",
       "      <td>802056870</td>\n",
       "      <td>1272.61</td>\n",
       "      <td>Euro</td>\n",
       "      <td>1272.61</td>\n",
       "      <td>Euro</td>\n",
       "      <td>Cheque</td>\n",
       "      <td>8</td>\n",
       "      <td>17</td>\n",
       "      <td>24</td>\n",
       "    </tr>\n",
       "    <tr>\n",
       "      <th>...</th>\n",
       "      <td>...</td>\n",
       "      <td>...</td>\n",
       "      <td>...</td>\n",
       "      <td>...</td>\n",
       "      <td>...</td>\n",
       "      <td>...</td>\n",
       "      <td>...</td>\n",
       "      <td>...</td>\n",
       "      <td>...</td>\n",
       "      <td>...</td>\n",
       "      <td>...</td>\n",
       "      <td>...</td>\n",
       "    </tr>\n",
       "    <tr>\n",
       "      <th>3112624</th>\n",
       "      <td>29</td>\n",
       "      <td>80CE3CBF0</td>\n",
       "      <td>10</td>\n",
       "      <td>80D5A6690</td>\n",
       "      <td>2445.05</td>\n",
       "      <td>Brazil Real</td>\n",
       "      <td>2445.05</td>\n",
       "      <td>Brazil Real</td>\n",
       "      <td>Cheque</td>\n",
       "      <td>6</td>\n",
       "      <td>16</td>\n",
       "      <td>34</td>\n",
       "    </tr>\n",
       "    <tr>\n",
       "      <th>147352</th>\n",
       "      <td>26818</td>\n",
       "      <td>804EC38B0</td>\n",
       "      <td>26818</td>\n",
       "      <td>804EC38B0</td>\n",
       "      <td>6.09</td>\n",
       "      <td>Euro</td>\n",
       "      <td>6.09</td>\n",
       "      <td>Euro</td>\n",
       "      <td>Reinvestment</td>\n",
       "      <td>1</td>\n",
       "      <td>0</td>\n",
       "      <td>0</td>\n",
       "    </tr>\n",
       "    <tr>\n",
       "      <th>2424474</th>\n",
       "      <td>16678</td>\n",
       "      <td>806182820</td>\n",
       "      <td>16678</td>\n",
       "      <td>806B385F0</td>\n",
       "      <td>4373.72</td>\n",
       "      <td>Ruble</td>\n",
       "      <td>4373.72</td>\n",
       "      <td>Ruble</td>\n",
       "      <td>Credit Card</td>\n",
       "      <td>5</td>\n",
       "      <td>6</td>\n",
       "      <td>18</td>\n",
       "    </tr>\n",
       "    <tr>\n",
       "      <th>896565</th>\n",
       "      <td>153502</td>\n",
       "      <td>813C754B1</td>\n",
       "      <td>15</td>\n",
       "      <td>813C76761</td>\n",
       "      <td>2.00</td>\n",
       "      <td>Bitcoin</td>\n",
       "      <td>2.00</td>\n",
       "      <td>Bitcoin</td>\n",
       "      <td>Bitcoin</td>\n",
       "      <td>1</td>\n",
       "      <td>17</td>\n",
       "      <td>14</td>\n",
       "    </tr>\n",
       "    <tr>\n",
       "      <th>3327348</th>\n",
       "      <td>11</td>\n",
       "      <td>80050EBD0</td>\n",
       "      <td>20</td>\n",
       "      <td>802D64050</td>\n",
       "      <td>14.47</td>\n",
       "      <td>Euro</td>\n",
       "      <td>14.47</td>\n",
       "      <td>Euro</td>\n",
       "      <td>Credit Card</td>\n",
       "      <td>7</td>\n",
       "      <td>3</td>\n",
       "      <td>10</td>\n",
       "    </tr>\n",
       "  </tbody>\n",
       "</table>\n",
       "<p>1675851 rows × 12 columns</p>\n",
       "</div>"
      ],
      "text/plain": [
       "         From Bank Sender Account  To Bank Receiver Account  Amount Received  \\\n",
       "1753554       1501      802097E60    16418        8028BE1E0         12891.48   \n",
       "3146155     125906      80D03F980    29003        80F337AA0            44.21   \n",
       "1364530       1412      80177CCF0   214621        80668D4C0             4.28   \n",
       "4803826       3435      800F39270    22164        800F39220           123.79   \n",
       "4083324      23344      80212BDC0    24850        802056870          1272.61   \n",
       "...            ...            ...      ...              ...              ...   \n",
       "3112624         29      80CE3CBF0       10        80D5A6690          2445.05   \n",
       "147352       26818      804EC38B0    26818        804EC38B0             6.09   \n",
       "2424474      16678      806182820    16678        806B385F0          4373.72   \n",
       "896565      153502      813C754B1       15        813C76761             2.00   \n",
       "3327348         11      80050EBD0       20        802D64050            14.47   \n",
       "\n",
       "        Receiving Currency  Amount Paid Payment Currency Payment Format  Day  \\\n",
       "1753554               Euro     12891.48             Euro    Credit Card    2   \n",
       "3146155          US Dollar        44.21        US Dollar         Cheque    6   \n",
       "1364530          US Dollar         4.28        US Dollar         Cheque    2   \n",
       "4803826          US Dollar       123.79        US Dollar           Cash    9   \n",
       "4083324               Euro      1272.61             Euro         Cheque    8   \n",
       "...                    ...          ...              ...            ...  ...   \n",
       "3112624        Brazil Real      2445.05      Brazil Real         Cheque    6   \n",
       "147352                Euro         6.09             Euro   Reinvestment    1   \n",
       "2424474              Ruble      4373.72            Ruble    Credit Card    5   \n",
       "896565             Bitcoin         2.00          Bitcoin        Bitcoin    1   \n",
       "3327348               Euro        14.47             Euro    Credit Card    7   \n",
       "\n",
       "         Hour  Minute  \n",
       "1753554    20      23  \n",
       "3146155    18      59  \n",
       "1364530     7      35  \n",
       "4803826    21      36  \n",
       "4083324    17      24  \n",
       "...       ...     ...  \n",
       "3112624    16      34  \n",
       "147352      0       0  \n",
       "2424474     6      18  \n",
       "896565     17      14  \n",
       "3327348     3      10  \n",
       "\n",
       "[1675851 rows x 12 columns]"
      ]
     },
     "execution_count": 64,
     "metadata": {},
     "output_type": "execute_result"
    }
   ],
   "source": [
    "X_test"
   ]
  },
  {
   "cell_type": "code",
   "execution_count": 65,
   "id": "b045c013",
   "metadata": {},
   "outputs": [
    {
     "data": {
      "text/plain": [
       "Is Laundering\n",
       "0    1674143\n",
       "1       1708\n",
       "Name: count, dtype: int64"
      ]
     },
     "execution_count": 65,
     "metadata": {},
     "output_type": "execute_result"
    }
   ],
   "source": [
    "y_test.value_counts()"
   ]
  },
  {
   "cell_type": "markdown",
   "id": "54a15ef9",
   "metadata": {},
   "source": [
    "## Data Preprocessing"
   ]
  },
  {
   "cell_type": "code",
   "execution_count": 66,
   "id": "9c3f4812",
   "metadata": {},
   "outputs": [],
   "source": [
    "numeric_features = X_train.select_dtypes(include=['number']).columns.tolist()"
   ]
  },
  {
   "cell_type": "code",
   "execution_count": 67,
   "id": "b98f6c9e",
   "metadata": {},
   "outputs": [],
   "source": [
    "account_features = ['Sender Account', 'Receiver Account']\n",
    "payment_features = ['Receiving Currency', 'Payment Currency', 'Payment Format']"
   ]
  },
  {
   "cell_type": "code",
   "execution_count": 68,
   "id": "ab59a1a9",
   "metadata": {},
   "outputs": [
    {
     "name": "stdout",
     "output_type": "stream",
     "text": [
      "Numeric Features:\n",
      "['From Bank', 'To Bank', 'Amount Received', 'Amount Paid', 'Day', 'Hour', 'Minute']\n",
      "\n",
      "Account Related Features:\n",
      "['Sender Account', 'Receiver Account']\n",
      "\n",
      "Payment Related Features:\n",
      "['Receiving Currency', 'Payment Currency', 'Payment Format']\n"
     ]
    }
   ],
   "source": [
    "print('Numeric Features:', numeric_features, '\\nAccount Related Features:', account_features, '\\nPayment Related Features:', payment_features, sep='\\n')"
   ]
  },
  {
   "cell_type": "code",
   "execution_count": 72,
   "id": "abe9d75d",
   "metadata": {},
   "outputs": [],
   "source": [
    "num_pipeline = Pipeline(\n",
    "    steps=[\n",
    "        ('imputer', SimpleImputer(strategy='median')),\n",
    "        ('scaler', StandardScaler())\n",
    "        \n",
    "])\n",
    "\n",
    "\n",
    "cat_pipeline_1 = Pipeline(\n",
    "    steps=[\n",
    "        ('imputer', SimpleImputer(strategy='most_frequent')),\n",
    "        ('count_encoder', CountEncoder())\n",
    "])\n",
    "\n",
    "\n",
    "cat_pipeline_2 = Pipeline(\n",
    "    steps=[\n",
    "        ('imputer', SimpleImputer(strategy='most_frequent')),\n",
    "        ('one_hot_encoder', OneHotEncoder())\n",
    "])"
   ]
  },
  {
   "cell_type": "code",
   "execution_count": 73,
   "id": "20ec2df3",
   "metadata": {},
   "outputs": [],
   "source": [
    "preprocessor = ColumnTransformer(\n",
    "    transformers=[\n",
    "        ('num_pipeline', num_pipeline, numeric_features),\n",
    "        ('cat_pipeline_1', cat_pipeline_1, account_features),\n",
    "        ('cat_pipeline_2', cat_pipeline_2, payment_features),\n",
    "])"
   ]
  },
  {
   "cell_type": "code",
   "execution_count": 74,
   "id": "b2dc97ff",
   "metadata": {},
   "outputs": [],
   "source": [
    "X_train_transformed = preprocessor.fit_transform(X_train)\n",
    "X_test_transformed = preprocessor.transform(X_test)"
   ]
  },
  {
   "cell_type": "code",
   "execution_count": 77,
   "id": "56a870c0",
   "metadata": {},
   "outputs": [
    {
     "data": {
      "text/plain": [
       "Is Laundering\n",
       "0    3399016\n",
       "1       3469\n",
       "Name: count, dtype: int64"
      ]
     },
     "execution_count": 77,
     "metadata": {},
     "output_type": "execute_result"
    }
   ],
   "source": [
    "y_train.value_counts()"
   ]
  },
  {
   "cell_type": "markdown",
   "id": "4846396b",
   "metadata": {},
   "source": [
    "## Handling Imbalanced Dataset"
   ]
  },
  {
   "cell_type": "code",
   "execution_count": 78,
   "id": "4210d271",
   "metadata": {},
   "outputs": [],
   "source": [
    "smote = SMOTE(random_state=42, k_neighbors=5)\n",
    "X_train_smote, y_train_smote = smote.fit_resample(X_train_transformed, y_train)"
   ]
  },
  {
   "cell_type": "code",
   "execution_count": 79,
   "id": "6d49d981",
   "metadata": {},
   "outputs": [
    {
     "data": {
      "text/plain": [
       "(6798032, 46)"
      ]
     },
     "execution_count": 79,
     "metadata": {},
     "output_type": "execute_result"
    }
   ],
   "source": [
    "X_train_smote.shape"
   ]
  },
  {
   "cell_type": "code",
   "execution_count": 80,
   "id": "025d26ac",
   "metadata": {},
   "outputs": [
    {
     "data": {
      "text/plain": [
       "(6798032,)"
      ]
     },
     "execution_count": 80,
     "metadata": {},
     "output_type": "execute_result"
    }
   ],
   "source": [
    "y_train_smote.shape"
   ]
  },
  {
   "cell_type": "code",
   "execution_count": 90,
   "id": "ee11711b",
   "metadata": {},
   "outputs": [
    {
     "data": {
      "text/plain": [
       "Is Laundering\n",
       "0    3399016\n",
       "1    3399016\n",
       "Name: count, dtype: int64"
      ]
     },
     "execution_count": 90,
     "metadata": {},
     "output_type": "execute_result"
    }
   ],
   "source": [
    "y_train_smote.value_counts()"
   ]
  },
  {
   "cell_type": "markdown",
   "id": "04895bed",
   "metadata": {},
   "source": [
    "## Model Training and Evaluation"
   ]
  },
  {
   "cell_type": "code",
   "execution_count": 92,
   "id": "771b2d2d",
   "metadata": {},
   "outputs": [
    {
     "name": "stdout",
     "output_type": "stream",
     "text": [
      "Logistic Regression\n",
      "Model performance for Test set\n",
      "- Confusion Matrix:\n",
      "[[1413940  260203]\n",
      " [    134    1574]]\n",
      "- Accuracy: 0.8447\n",
      "- Precision: 0.0060\n",
      "- Recall: 0.9215\n",
      "- F1-Score: 0.0119\n",
      "========================================\n",
      "\n",
      "\n",
      "DecisionTree Classifier\n",
      "Model performance for Test set\n",
      "- Confusion Matrix:\n",
      "[[1528003  146140]\n",
      " [    301    1407]]\n",
      "- Accuracy: 0.9126\n",
      "- Precision: 0.0095\n",
      "- Recall: 0.8238\n",
      "- F1-Score: 0.0189\n",
      "========================================\n",
      "\n",
      "\n",
      "RandomForest Classifier\n",
      "Model performance for Test set\n",
      "- Confusion Matrix:\n",
      "[[1546494  127649]\n",
      " [    263    1445]]\n",
      "- Accuracy: 0.9237\n",
      "- Precision: 0.0112\n",
      "- Recall: 0.8460\n",
      "- F1-Score: 0.0221\n",
      "========================================\n",
      "\n",
      "\n",
      "NaiveBayes Classifier\n",
      "Model performance for Test set\n",
      "- Confusion Matrix:\n",
      "[[1468020  206123]\n",
      " [    214    1494]]\n",
      "- Accuracy: 0.8769\n",
      "- Precision: 0.0072\n",
      "- Recall: 0.8747\n",
      "- F1-Score: 0.0143\n",
      "========================================\n",
      "\n",
      "\n"
     ]
    }
   ],
   "source": [
    "# Evaluate Model\n",
    "def evaluate_model(true, predicted):\n",
    "    conf_matrix = confusion_matrix(true, predicted)\n",
    "    accuracy = accuracy_score(y_test, y_pred)\n",
    "    precision = precision_score(true, predicted)\n",
    "    recall = recall_score(true, predicted)\n",
    "    f1_src = f1_score(true, predicted)\n",
    "    return conf_matrix, accuracy, precision, recall, f1_src\n",
    "\n",
    "models = {\n",
    "    \"Logistic Regression\": LogisticRegression(n_jobs=6),\n",
    "    \"DecisionTree Classifier\": DecisionTreeClassifier(max_depth=10),\n",
    "    \"RandomForest Classifier\": RandomForestClassifier(n_jobs=6, max_depth=10),\n",
    "    \"NaiveBayes Classifier\": BernoulliNB(),\n",
    "    # \"LGBM Classifier\": LGBMClassifier(n_estimators=200, n_jobs=6, max_depth=10, num_leaves=1023),\n",
    "    # \"XGB Classifier\": XGBClassifier(n_estimators=200, n_jobs=6, max_depth=10),\n",
    "}\n",
    "\n",
    "model_list = []\n",
    "recall_list = []\n",
    "\n",
    "for i in range(len(list(models))):\n",
    "    \n",
    "    print(list(models.keys())[i])\n",
    "    model = list(models.values())[i]\n",
    "    model.fit(X_train_smote, y_train_smote) # Train model\n",
    "\n",
    "    # Make predictions\n",
    "    y_pred = model.predict(X_test_transformed)\n",
    "    \n",
    "    # Evaluate Test dataset\n",
    "    conf_matrix, accuracy, precision, recall, f1_src = evaluate_model(y_test, y_pred)\n",
    "    \n",
    "    # Update Model list\n",
    "    model_list.append(list(models.keys())[i])\n",
    "    \n",
    "    # Update Recall list\n",
    "    recall_list.append(recall)\n",
    "\n",
    "    # Display results\n",
    "    print('Model performance for Test set')\n",
    "    print(\"- Confusion Matrix:\\n{}\".format(conf_matrix))\n",
    "    print(\"- Accuracy: {:.4f}\".format(accuracy))\n",
    "    print(\"- Precision: {:.4f}\".format(precision))\n",
    "    print(\"- Recall: {:.4f}\".format(recall))\n",
    "    print(\"- F1-Score: {:.4f}\".format(f1_src))\n",
    "\n",
    "    print('='*40)\n",
    "    print('\\n')"
   ]
  },
  {
   "cell_type": "code",
   "execution_count": null,
   "id": "8ced1b2f",
   "metadata": {},
   "outputs": [],
   "source": [
    "pd.DataFrame(list(zip(model_list, recall_list)), columns=['Model Name', 'Recall Score']).sort_values(by=[\"Recall Score\"],ascending=False)"
   ]
  },
  {
   "cell_type": "code",
   "execution_count": null,
   "id": "9ab6a115",
   "metadata": {},
   "outputs": [],
   "source": []
  }
 ],
 "metadata": {
  "kernelspec": {
   "display_name": "Python 3",
   "language": "python",
   "name": "python3"
  },
  "language_info": {
   "codemirror_mode": {
    "name": "ipython",
    "version": 3
   },
   "file_extension": ".py",
   "mimetype": "text/x-python",
   "name": "python",
   "nbconvert_exporter": "python",
   "pygments_lexer": "ipython3",
   "version": "3.8.0"
  }
 },
 "nbformat": 4,
 "nbformat_minor": 5
}
